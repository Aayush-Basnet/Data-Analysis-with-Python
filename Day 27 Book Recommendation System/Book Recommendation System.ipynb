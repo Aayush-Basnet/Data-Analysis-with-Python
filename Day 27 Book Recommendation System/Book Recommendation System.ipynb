{
 "cells": [
  {
   "cell_type": "markdown",
   "id": "dde8ed08",
   "metadata": {},
   "source": [
    "# Book Recommendation System"
   ]
  },
  {
   "cell_type": "markdown",
   "id": "f2906890",
   "metadata": {},
   "source": [
    "#### Summary\n",
    "\n",
    "   - First of all we were provided with three datasets namely books,users, and ratings. We studied all datasets in that the various columns were ISBN Book-Title, Book-Author, Year-Of-Publication, Publisher, Image-URL-S(Small) Image-URL-M(Medium), Image-URL-L(Large), User-ID, Book-Rating,Location,and Age. ISBN is International Standard Book Number.\n",
    "   - Then we started with exploratory data analysis by merging all three datasets and making a new dataframe(merged_df). So we proceeded with looking for missing values and outlier detection(year, and age columns) in the given dataset. We dropped te records where negligible values were missing. For age we are interested in the age group of 5-100 years. So by considering every other value as an outliers, we converted those into null values. For age column around 26% of the values were missing. So we imputed them using random imputation.\n",
    "   - We also got insights(into the relationship) by visualizing the variables using histplot,coutplot,barplot, pie chart, and distplot etc. After visualizing it, we got the insights that the majority of users did not rate the books. Also majority of the books were rated 8/10. Also the majority of the readers were in the age group of 20-45. Also the majority of users were from USA and Canada. We could see an exponential increase in the publication of books after the year 1950. The Authors who wrote the maximum no. of books were Agatha christie, and William Shakespeare. The maximum books were from the publication house Harlequin and Silhouette.\n",
    "   - We started with the implementation of the model where we first used the popularity based approach using the average rating. We considered only those book which were rated atleast 250 times.\n",
    "   \n",
    "\n",
    "## Problem Statement\n",
    "   During the last few decades, with the rise of Youtube, Amazon, Netflix, and many other such web services, recommender systems have taken more and more place in our lives. From e-commerce (suggest to buyers articles that could interest them) to online advertisement (suggest to users the right contents, matching their preferences), recommender systems are today unavoidable in our daily online journeys.\n",
    "\n",
    "In a very general way, recommender systems are algorithms aimed at suggesting relevant items to users (items being movies to watch, text to read, products to buy, or anything else depending on industries).\n",
    "\n",
    "Recommender systems are really critical in some industries as they can generate a huge amount of income when they are efficient or also be a way to stand out significantly from competitors. The main objective is to create a book recommendation system for users.\n",
    "\n",
    "\n",
    "## Overview about Project\n",
    "\n",
    "  A book recommender system is a tool that suggests books to users based on their interests and reading history. These systems can be used by libraries, bookstores, or online retailers to help users discover new books that they might enjoy.\n",
    "  \n",
    "  This project implements a Book Recommender System designed to help users discover new books based on their preferences and interactions. The system primarily uses two recommendation strategies: popularity-based filtering and collaborative filtering.\n",
    "\n",
    "  The goal of the system is to assist readers in exploring books they might enjoy by leveraging user behavior and book popularity.\n",
    "   \n",
    "   There are several challenges to building an effective book recommender system, including the need for large amounts of data to train the system, the complexity of natural language processing, and the need to balance the personalization of recommendations with the diversity of the books recommended.\n",
    "   \n",
    "#### Features\n",
    "    \n",
    "   - Popularity-based Filtering: Recommends books that are popular across all users. This method ranks books based on factors like the number of ratings and average rating, making it ideal for new users or when there is insufficient data about user preferences\n",
    "   - Collaborative Filtering: Suggests books based on user interactions. This technique finds similar users or books by analyzing user-book interactions (such as ratings) and suggests books that users with similar tastes have liked. Used <b>Cosine Similarity</b> to measure the similarity between the books based on their ratings by the user.\n",
    "   \n",
    "   \n",
    "## Dataset Description\n",
    "\n",
    "The Book-Crossing dataset comprises 3 files\n",
    "\n",
    "   - Users:  Contains the users. Note that user IDs (User-ID) have been anonymized and map to integers. Demographic data is provided (Location, Age) if available. Otherwise, these fields contain NULL values.\n",
    "   - Books: Books are identified by their respective ISBN. Invalid ISBNs have already been removed from the dataset. Moreover, some content-based information is given (Book-Title, Book-Author, Year-Of-Publication, Publisher), obtained from Amazon Web Services. Note that in the case of several authors, only the first is provided. URLs linking to cover images are also given, appearing in three different flavors (Image-URL-S, Image-URL-M, Image-URL-L), i.e., small, medium, large. These URLs point to the Amazon website.\n",
    "   - Ratings: Contains the book rating information. Ratings (Book-Rating) are either explicit, expressed on a scale from 1-10 (higher values denoting higher appreciation), or implicit, expressed by 0."
   ]
  },
  {
   "cell_type": "code",
   "execution_count": 1,
   "id": "b2d32f0c",
   "metadata": {},
   "outputs": [],
   "source": [
    "#importing the required libraries\n",
    "\n",
    "import pandas as pd\n",
    "import numpy as np"
   ]
  },
  {
   "cell_type": "code",
   "execution_count": 14,
   "id": "bbc87f2e",
   "metadata": {},
   "outputs": [
    {
     "name": "stderr",
     "output_type": "stream",
     "text": [
      "C:\\Users\\Aayush\\AppData\\Local\\Temp\\ipykernel_7860\\501754327.py:1: DtypeWarning: Columns (3) have mixed types. Specify dtype option on import or set low_memory=False.\n",
      "  books = pd.read_csv(r\"C:\\Users\\Aayush\\Documents\\SQL Server Management Studio\\31 Day of Data Analytic Project\\Day 27 Book Recommendation System\\Books.csv\")\n"
     ]
    },
    {
     "data": {
      "text/html": [
       "<div>\n",
       "<style scoped>\n",
       "    .dataframe tbody tr th:only-of-type {\n",
       "        vertical-align: middle;\n",
       "    }\n",
       "\n",
       "    .dataframe tbody tr th {\n",
       "        vertical-align: top;\n",
       "    }\n",
       "\n",
       "    .dataframe thead th {\n",
       "        text-align: right;\n",
       "    }\n",
       "</style>\n",
       "<table border=\"1\" class=\"dataframe\">\n",
       "  <thead>\n",
       "    <tr style=\"text-align: right;\">\n",
       "      <th></th>\n",
       "      <th>ISBN</th>\n",
       "      <th>Book-Title</th>\n",
       "      <th>Book-Author</th>\n",
       "      <th>Year-Of-Publication</th>\n",
       "      <th>Publisher</th>\n",
       "      <th>Image-URL-S</th>\n",
       "      <th>Image-URL-M</th>\n",
       "      <th>Image-URL-L</th>\n",
       "    </tr>\n",
       "  </thead>\n",
       "  <tbody>\n",
       "    <tr>\n",
       "      <th>0</th>\n",
       "      <td>0195153448</td>\n",
       "      <td>Classical Mythology</td>\n",
       "      <td>Mark P. O. Morford</td>\n",
       "      <td>2002</td>\n",
       "      <td>Oxford University Press</td>\n",
       "      <td>http://images.amazon.com/images/P/0195153448.0...</td>\n",
       "      <td>http://images.amazon.com/images/P/0195153448.0...</td>\n",
       "      <td>http://images.amazon.com/images/P/0195153448.0...</td>\n",
       "    </tr>\n",
       "    <tr>\n",
       "      <th>1</th>\n",
       "      <td>0002005018</td>\n",
       "      <td>Clara Callan</td>\n",
       "      <td>Richard Bruce Wright</td>\n",
       "      <td>2001</td>\n",
       "      <td>HarperFlamingo Canada</td>\n",
       "      <td>http://images.amazon.com/images/P/0002005018.0...</td>\n",
       "      <td>http://images.amazon.com/images/P/0002005018.0...</td>\n",
       "      <td>http://images.amazon.com/images/P/0002005018.0...</td>\n",
       "    </tr>\n",
       "    <tr>\n",
       "      <th>2</th>\n",
       "      <td>0060973129</td>\n",
       "      <td>Decision in Normandy</td>\n",
       "      <td>Carlo D'Este</td>\n",
       "      <td>1991</td>\n",
       "      <td>HarperPerennial</td>\n",
       "      <td>http://images.amazon.com/images/P/0060973129.0...</td>\n",
       "      <td>http://images.amazon.com/images/P/0060973129.0...</td>\n",
       "      <td>http://images.amazon.com/images/P/0060973129.0...</td>\n",
       "    </tr>\n",
       "    <tr>\n",
       "      <th>3</th>\n",
       "      <td>0374157065</td>\n",
       "      <td>Flu: The Story of the Great Influenza Pandemic...</td>\n",
       "      <td>Gina Bari Kolata</td>\n",
       "      <td>1999</td>\n",
       "      <td>Farrar Straus Giroux</td>\n",
       "      <td>http://images.amazon.com/images/P/0374157065.0...</td>\n",
       "      <td>http://images.amazon.com/images/P/0374157065.0...</td>\n",
       "      <td>http://images.amazon.com/images/P/0374157065.0...</td>\n",
       "    </tr>\n",
       "    <tr>\n",
       "      <th>4</th>\n",
       "      <td>0393045218</td>\n",
       "      <td>The Mummies of Urumchi</td>\n",
       "      <td>E. J. W. Barber</td>\n",
       "      <td>1999</td>\n",
       "      <td>W. W. Norton &amp;amp; Company</td>\n",
       "      <td>http://images.amazon.com/images/P/0393045218.0...</td>\n",
       "      <td>http://images.amazon.com/images/P/0393045218.0...</td>\n",
       "      <td>http://images.amazon.com/images/P/0393045218.0...</td>\n",
       "    </tr>\n",
       "    <tr>\n",
       "      <th>5</th>\n",
       "      <td>0399135782</td>\n",
       "      <td>The Kitchen God's Wife</td>\n",
       "      <td>Amy Tan</td>\n",
       "      <td>1991</td>\n",
       "      <td>Putnam Pub Group</td>\n",
       "      <td>http://images.amazon.com/images/P/0399135782.0...</td>\n",
       "      <td>http://images.amazon.com/images/P/0399135782.0...</td>\n",
       "      <td>http://images.amazon.com/images/P/0399135782.0...</td>\n",
       "    </tr>\n",
       "    <tr>\n",
       "      <th>6</th>\n",
       "      <td>0425176428</td>\n",
       "      <td>What If?: The World's Foremost Military Histor...</td>\n",
       "      <td>Robert Cowley</td>\n",
       "      <td>2000</td>\n",
       "      <td>Berkley Publishing Group</td>\n",
       "      <td>http://images.amazon.com/images/P/0425176428.0...</td>\n",
       "      <td>http://images.amazon.com/images/P/0425176428.0...</td>\n",
       "      <td>http://images.amazon.com/images/P/0425176428.0...</td>\n",
       "    </tr>\n",
       "    <tr>\n",
       "      <th>7</th>\n",
       "      <td>0671870432</td>\n",
       "      <td>PLEADING GUILTY</td>\n",
       "      <td>Scott Turow</td>\n",
       "      <td>1993</td>\n",
       "      <td>Audioworks</td>\n",
       "      <td>http://images.amazon.com/images/P/0671870432.0...</td>\n",
       "      <td>http://images.amazon.com/images/P/0671870432.0...</td>\n",
       "      <td>http://images.amazon.com/images/P/0671870432.0...</td>\n",
       "    </tr>\n",
       "  </tbody>\n",
       "</table>\n",
       "</div>"
      ],
      "text/plain": [
       "         ISBN                                         Book-Title  \\\n",
       "0  0195153448                                Classical Mythology   \n",
       "1  0002005018                                       Clara Callan   \n",
       "2  0060973129                               Decision in Normandy   \n",
       "3  0374157065  Flu: The Story of the Great Influenza Pandemic...   \n",
       "4  0393045218                             The Mummies of Urumchi   \n",
       "5  0399135782                             The Kitchen God's Wife   \n",
       "6  0425176428  What If?: The World's Foremost Military Histor...   \n",
       "7  0671870432                                    PLEADING GUILTY   \n",
       "\n",
       "            Book-Author Year-Of-Publication                   Publisher  \\\n",
       "0    Mark P. O. Morford                2002     Oxford University Press   \n",
       "1  Richard Bruce Wright                2001       HarperFlamingo Canada   \n",
       "2          Carlo D'Este                1991             HarperPerennial   \n",
       "3      Gina Bari Kolata                1999        Farrar Straus Giroux   \n",
       "4       E. J. W. Barber                1999  W. W. Norton &amp; Company   \n",
       "5               Amy Tan                1991            Putnam Pub Group   \n",
       "6         Robert Cowley                2000    Berkley Publishing Group   \n",
       "7           Scott Turow                1993                  Audioworks   \n",
       "\n",
       "                                         Image-URL-S  \\\n",
       "0  http://images.amazon.com/images/P/0195153448.0...   \n",
       "1  http://images.amazon.com/images/P/0002005018.0...   \n",
       "2  http://images.amazon.com/images/P/0060973129.0...   \n",
       "3  http://images.amazon.com/images/P/0374157065.0...   \n",
       "4  http://images.amazon.com/images/P/0393045218.0...   \n",
       "5  http://images.amazon.com/images/P/0399135782.0...   \n",
       "6  http://images.amazon.com/images/P/0425176428.0...   \n",
       "7  http://images.amazon.com/images/P/0671870432.0...   \n",
       "\n",
       "                                         Image-URL-M  \\\n",
       "0  http://images.amazon.com/images/P/0195153448.0...   \n",
       "1  http://images.amazon.com/images/P/0002005018.0...   \n",
       "2  http://images.amazon.com/images/P/0060973129.0...   \n",
       "3  http://images.amazon.com/images/P/0374157065.0...   \n",
       "4  http://images.amazon.com/images/P/0393045218.0...   \n",
       "5  http://images.amazon.com/images/P/0399135782.0...   \n",
       "6  http://images.amazon.com/images/P/0425176428.0...   \n",
       "7  http://images.amazon.com/images/P/0671870432.0...   \n",
       "\n",
       "                                         Image-URL-L  \n",
       "0  http://images.amazon.com/images/P/0195153448.0...  \n",
       "1  http://images.amazon.com/images/P/0002005018.0...  \n",
       "2  http://images.amazon.com/images/P/0060973129.0...  \n",
       "3  http://images.amazon.com/images/P/0374157065.0...  \n",
       "4  http://images.amazon.com/images/P/0393045218.0...  \n",
       "5  http://images.amazon.com/images/P/0399135782.0...  \n",
       "6  http://images.amazon.com/images/P/0425176428.0...  \n",
       "7  http://images.amazon.com/images/P/0671870432.0...  "
      ]
     },
     "execution_count": 14,
     "metadata": {},
     "output_type": "execute_result"
    }
   ],
   "source": [
    "books = pd.read_csv(r\"C:\\Users\\Aayush\\Documents\\SQL Server Management Studio\\31 Day of Data Analytic Project\\Day 27 Book Recommendation System\\Books.csv\")\n",
    "books.head(8)"
   ]
  },
  {
   "cell_type": "code",
   "execution_count": 5,
   "id": "e6f1dc4e",
   "metadata": {},
   "outputs": [
    {
     "data": {
      "text/html": [
       "<div>\n",
       "<style scoped>\n",
       "    .dataframe tbody tr th:only-of-type {\n",
       "        vertical-align: middle;\n",
       "    }\n",
       "\n",
       "    .dataframe tbody tr th {\n",
       "        vertical-align: top;\n",
       "    }\n",
       "\n",
       "    .dataframe thead th {\n",
       "        text-align: right;\n",
       "    }\n",
       "</style>\n",
       "<table border=\"1\" class=\"dataframe\">\n",
       "  <thead>\n",
       "    <tr style=\"text-align: right;\">\n",
       "      <th></th>\n",
       "      <th>User-ID</th>\n",
       "      <th>Location</th>\n",
       "      <th>Age</th>\n",
       "    </tr>\n",
       "  </thead>\n",
       "  <tbody>\n",
       "    <tr>\n",
       "      <th>0</th>\n",
       "      <td>1</td>\n",
       "      <td>nyc, new york, usa</td>\n",
       "      <td>NaN</td>\n",
       "    </tr>\n",
       "    <tr>\n",
       "      <th>1</th>\n",
       "      <td>2</td>\n",
       "      <td>stockton, new york, usa</td>\n",
       "      <td>18.0</td>\n",
       "    </tr>\n",
       "    <tr>\n",
       "      <th>2</th>\n",
       "      <td>3</td>\n",
       "      <td>moscow, yukon territory, russia</td>\n",
       "      <td>NaN</td>\n",
       "    </tr>\n",
       "    <tr>\n",
       "      <th>3</th>\n",
       "      <td>4</td>\n",
       "      <td>porto, v.n.gaia, portugal</td>\n",
       "      <td>17.0</td>\n",
       "    </tr>\n",
       "    <tr>\n",
       "      <th>4</th>\n",
       "      <td>5</td>\n",
       "      <td>farnborough, hants, united kingdom</td>\n",
       "      <td>NaN</td>\n",
       "    </tr>\n",
       "  </tbody>\n",
       "</table>\n",
       "</div>"
      ],
      "text/plain": [
       "   User-ID                            Location   Age\n",
       "0        1                  nyc, new york, usa   NaN\n",
       "1        2             stockton, new york, usa  18.0\n",
       "2        3     moscow, yukon territory, russia   NaN\n",
       "3        4           porto, v.n.gaia, portugal  17.0\n",
       "4        5  farnborough, hants, united kingdom   NaN"
      ]
     },
     "execution_count": 5,
     "metadata": {},
     "output_type": "execute_result"
    }
   ],
   "source": [
    "users = pd.read_csv(r\"C:\\Users\\Aayush\\Documents\\SQL Server Management Studio\\31 Day of Data Analytic Project\\Day 27 Book Recommendation System\\Users.csv\")\n",
    "users.head()"
   ]
  },
  {
   "cell_type": "code",
   "execution_count": 6,
   "id": "93431473",
   "metadata": {},
   "outputs": [
    {
     "data": {
      "text/html": [
       "<div>\n",
       "<style scoped>\n",
       "    .dataframe tbody tr th:only-of-type {\n",
       "        vertical-align: middle;\n",
       "    }\n",
       "\n",
       "    .dataframe tbody tr th {\n",
       "        vertical-align: top;\n",
       "    }\n",
       "\n",
       "    .dataframe thead th {\n",
       "        text-align: right;\n",
       "    }\n",
       "</style>\n",
       "<table border=\"1\" class=\"dataframe\">\n",
       "  <thead>\n",
       "    <tr style=\"text-align: right;\">\n",
       "      <th></th>\n",
       "      <th>User-ID</th>\n",
       "      <th>ISBN</th>\n",
       "      <th>Book-Rating</th>\n",
       "    </tr>\n",
       "  </thead>\n",
       "  <tbody>\n",
       "    <tr>\n",
       "      <th>0</th>\n",
       "      <td>276725</td>\n",
       "      <td>034545104X</td>\n",
       "      <td>0</td>\n",
       "    </tr>\n",
       "    <tr>\n",
       "      <th>1</th>\n",
       "      <td>276726</td>\n",
       "      <td>0155061224</td>\n",
       "      <td>5</td>\n",
       "    </tr>\n",
       "    <tr>\n",
       "      <th>2</th>\n",
       "      <td>276727</td>\n",
       "      <td>0446520802</td>\n",
       "      <td>0</td>\n",
       "    </tr>\n",
       "    <tr>\n",
       "      <th>3</th>\n",
       "      <td>276729</td>\n",
       "      <td>052165615X</td>\n",
       "      <td>3</td>\n",
       "    </tr>\n",
       "    <tr>\n",
       "      <th>4</th>\n",
       "      <td>276729</td>\n",
       "      <td>0521795028</td>\n",
       "      <td>6</td>\n",
       "    </tr>\n",
       "  </tbody>\n",
       "</table>\n",
       "</div>"
      ],
      "text/plain": [
       "   User-ID        ISBN  Book-Rating\n",
       "0   276725  034545104X            0\n",
       "1   276726  0155061224            5\n",
       "2   276727  0446520802            0\n",
       "3   276729  052165615X            3\n",
       "4   276729  0521795028            6"
      ]
     },
     "execution_count": 6,
     "metadata": {},
     "output_type": "execute_result"
    }
   ],
   "source": [
    "ratings = pd.read_csv(r\"C:\\Users\\Aayush\\Documents\\SQL Server Management Studio\\31 Day of Data Analytic Project\\Day 27 Book Recommendation System\\Ratings.csv\")\n",
    "ratings.head()"
   ]
  },
  {
   "cell_type": "code",
   "execution_count": null,
   "id": "b4563f62",
   "metadata": {},
   "outputs": [],
   "source": []
  },
  {
   "cell_type": "markdown",
   "id": "24ddbe50",
   "metadata": {},
   "source": [
    "### Dataset Information & Description"
   ]
  },
  {
   "cell_type": "code",
   "execution_count": 7,
   "id": "b21ad1c3",
   "metadata": {},
   "outputs": [
    {
     "name": "stdout",
     "output_type": "stream",
     "text": [
      "<class 'pandas.core.frame.DataFrame'>\n",
      "RangeIndex: 271360 entries, 0 to 271359\n",
      "Data columns (total 8 columns):\n",
      " #   Column               Non-Null Count   Dtype \n",
      "---  ------               --------------   ----- \n",
      " 0   ISBN                 271360 non-null  object\n",
      " 1   Book-Title           271360 non-null  object\n",
      " 2   Book-Author          271358 non-null  object\n",
      " 3   Year-Of-Publication  271360 non-null  object\n",
      " 4   Publisher            271358 non-null  object\n",
      " 5   Image-URL-S          271360 non-null  object\n",
      " 6   Image-URL-M          271360 non-null  object\n",
      " 7   Image-URL-L          271357 non-null  object\n",
      "dtypes: object(8)\n",
      "memory usage: 16.6+ MB\n"
     ]
    }
   ],
   "source": [
    "# showing the basic stats of numeric features of books dataframe\n",
    "books.info()"
   ]
  },
  {
   "cell_type": "code",
   "execution_count": 8,
   "id": "22b26a8c",
   "metadata": {},
   "outputs": [
    {
     "data": {
      "text/html": [
       "<div>\n",
       "<style scoped>\n",
       "    .dataframe tbody tr th:only-of-type {\n",
       "        vertical-align: middle;\n",
       "    }\n",
       "\n",
       "    .dataframe tbody tr th {\n",
       "        vertical-align: top;\n",
       "    }\n",
       "\n",
       "    .dataframe thead th {\n",
       "        text-align: right;\n",
       "    }\n",
       "</style>\n",
       "<table border=\"1\" class=\"dataframe\">\n",
       "  <thead>\n",
       "    <tr style=\"text-align: right;\">\n",
       "      <th></th>\n",
       "      <th>ISBN</th>\n",
       "      <th>Book-Title</th>\n",
       "      <th>Book-Author</th>\n",
       "      <th>Year-Of-Publication</th>\n",
       "      <th>Publisher</th>\n",
       "      <th>Image-URL-S</th>\n",
       "      <th>Image-URL-M</th>\n",
       "      <th>Image-URL-L</th>\n",
       "    </tr>\n",
       "  </thead>\n",
       "  <tbody>\n",
       "    <tr>\n",
       "      <th>count</th>\n",
       "      <td>271360</td>\n",
       "      <td>271360</td>\n",
       "      <td>271358</td>\n",
       "      <td>271360</td>\n",
       "      <td>271358</td>\n",
       "      <td>271360</td>\n",
       "      <td>271360</td>\n",
       "      <td>271357</td>\n",
       "    </tr>\n",
       "    <tr>\n",
       "      <th>unique</th>\n",
       "      <td>271360</td>\n",
       "      <td>242135</td>\n",
       "      <td>102022</td>\n",
       "      <td>202</td>\n",
       "      <td>16807</td>\n",
       "      <td>271044</td>\n",
       "      <td>271044</td>\n",
       "      <td>271041</td>\n",
       "    </tr>\n",
       "    <tr>\n",
       "      <th>top</th>\n",
       "      <td>0195153448</td>\n",
       "      <td>Selected Poems</td>\n",
       "      <td>Agatha Christie</td>\n",
       "      <td>2002</td>\n",
       "      <td>Harlequin</td>\n",
       "      <td>http://images.amazon.com/images/P/185326119X.0...</td>\n",
       "      <td>http://images.amazon.com/images/P/185326119X.0...</td>\n",
       "      <td>http://images.amazon.com/images/P/225307649X.0...</td>\n",
       "    </tr>\n",
       "    <tr>\n",
       "      <th>freq</th>\n",
       "      <td>1</td>\n",
       "      <td>27</td>\n",
       "      <td>632</td>\n",
       "      <td>13903</td>\n",
       "      <td>7535</td>\n",
       "      <td>2</td>\n",
       "      <td>2</td>\n",
       "      <td>2</td>\n",
       "    </tr>\n",
       "  </tbody>\n",
       "</table>\n",
       "</div>"
      ],
      "text/plain": [
       "              ISBN      Book-Title      Book-Author  Year-Of-Publication  \\\n",
       "count       271360          271360           271358               271360   \n",
       "unique      271360          242135           102022                  202   \n",
       "top     0195153448  Selected Poems  Agatha Christie                 2002   \n",
       "freq             1              27              632                13903   \n",
       "\n",
       "        Publisher                                        Image-URL-S  \\\n",
       "count      271358                                             271360   \n",
       "unique      16807                                             271044   \n",
       "top     Harlequin  http://images.amazon.com/images/P/185326119X.0...   \n",
       "freq         7535                                                  2   \n",
       "\n",
       "                                              Image-URL-M  \\\n",
       "count                                              271360   \n",
       "unique                                             271044   \n",
       "top     http://images.amazon.com/images/P/185326119X.0...   \n",
       "freq                                                    2   \n",
       "\n",
       "                                              Image-URL-L  \n",
       "count                                              271357  \n",
       "unique                                             271041  \n",
       "top     http://images.amazon.com/images/P/225307649X.0...  \n",
       "freq                                                    2  "
      ]
     },
     "execution_count": 8,
     "metadata": {},
     "output_type": "execute_result"
    }
   ],
   "source": [
    "# Description of books dataframe\n",
    "books.describe()"
   ]
  },
  {
   "cell_type": "code",
   "execution_count": 9,
   "id": "802ac98d",
   "metadata": {},
   "outputs": [
    {
     "name": "stdout",
     "output_type": "stream",
     "text": [
      "<class 'pandas.core.frame.DataFrame'>\n",
      "RangeIndex: 1149780 entries, 0 to 1149779\n",
      "Data columns (total 3 columns):\n",
      " #   Column       Non-Null Count    Dtype \n",
      "---  ------       --------------    ----- \n",
      " 0   User-ID      1149780 non-null  int64 \n",
      " 1   ISBN         1149780 non-null  object\n",
      " 2   Book-Rating  1149780 non-null  int64 \n",
      "dtypes: int64(2), object(1)\n",
      "memory usage: 26.3+ MB\n"
     ]
    }
   ],
   "source": [
    "# showing the basic info of dataframe like not_null values, columns, and datatype\n",
    "ratings.info()"
   ]
  },
  {
   "cell_type": "code",
   "execution_count": 10,
   "id": "df178559",
   "metadata": {},
   "outputs": [
    {
     "data": {
      "text/html": [
       "<div>\n",
       "<style scoped>\n",
       "    .dataframe tbody tr th:only-of-type {\n",
       "        vertical-align: middle;\n",
       "    }\n",
       "\n",
       "    .dataframe tbody tr th {\n",
       "        vertical-align: top;\n",
       "    }\n",
       "\n",
       "    .dataframe thead th {\n",
       "        text-align: right;\n",
       "    }\n",
       "</style>\n",
       "<table border=\"1\" class=\"dataframe\">\n",
       "  <thead>\n",
       "    <tr style=\"text-align: right;\">\n",
       "      <th></th>\n",
       "      <th>User-ID</th>\n",
       "      <th>Book-Rating</th>\n",
       "    </tr>\n",
       "  </thead>\n",
       "  <tbody>\n",
       "    <tr>\n",
       "      <th>count</th>\n",
       "      <td>1.149780e+06</td>\n",
       "      <td>1.149780e+06</td>\n",
       "    </tr>\n",
       "    <tr>\n",
       "      <th>mean</th>\n",
       "      <td>1.403864e+05</td>\n",
       "      <td>2.866950e+00</td>\n",
       "    </tr>\n",
       "    <tr>\n",
       "      <th>std</th>\n",
       "      <td>8.056228e+04</td>\n",
       "      <td>3.854184e+00</td>\n",
       "    </tr>\n",
       "    <tr>\n",
       "      <th>min</th>\n",
       "      <td>2.000000e+00</td>\n",
       "      <td>0.000000e+00</td>\n",
       "    </tr>\n",
       "    <tr>\n",
       "      <th>25%</th>\n",
       "      <td>7.034500e+04</td>\n",
       "      <td>0.000000e+00</td>\n",
       "    </tr>\n",
       "    <tr>\n",
       "      <th>50%</th>\n",
       "      <td>1.410100e+05</td>\n",
       "      <td>0.000000e+00</td>\n",
       "    </tr>\n",
       "    <tr>\n",
       "      <th>75%</th>\n",
       "      <td>2.110280e+05</td>\n",
       "      <td>7.000000e+00</td>\n",
       "    </tr>\n",
       "    <tr>\n",
       "      <th>max</th>\n",
       "      <td>2.788540e+05</td>\n",
       "      <td>1.000000e+01</td>\n",
       "    </tr>\n",
       "  </tbody>\n",
       "</table>\n",
       "</div>"
      ],
      "text/plain": [
       "            User-ID   Book-Rating\n",
       "count  1.149780e+06  1.149780e+06\n",
       "mean   1.403864e+05  2.866950e+00\n",
       "std    8.056228e+04  3.854184e+00\n",
       "min    2.000000e+00  0.000000e+00\n",
       "25%    7.034500e+04  0.000000e+00\n",
       "50%    1.410100e+05  0.000000e+00\n",
       "75%    2.110280e+05  7.000000e+00\n",
       "max    2.788540e+05  1.000000e+01"
      ]
     },
     "execution_count": 10,
     "metadata": {},
     "output_type": "execute_result"
    }
   ],
   "source": [
    "ratings.describe()"
   ]
  },
  {
   "cell_type": "code",
   "execution_count": 16,
   "id": "b8c7b938",
   "metadata": {},
   "outputs": [
    {
     "data": {
      "text/html": [
       "<div>\n",
       "<style scoped>\n",
       "    .dataframe tbody tr th:only-of-type {\n",
       "        vertical-align: middle;\n",
       "    }\n",
       "\n",
       "    .dataframe tbody tr th {\n",
       "        vertical-align: top;\n",
       "    }\n",
       "\n",
       "    .dataframe thead th {\n",
       "        text-align: right;\n",
       "    }\n",
       "</style>\n",
       "<table border=\"1\" class=\"dataframe\">\n",
       "  <thead>\n",
       "    <tr style=\"text-align: right;\">\n",
       "      <th></th>\n",
       "      <th>ISBN</th>\n",
       "    </tr>\n",
       "  </thead>\n",
       "  <tbody>\n",
       "    <tr>\n",
       "      <th>count</th>\n",
       "      <td>1149780</td>\n",
       "    </tr>\n",
       "    <tr>\n",
       "      <th>unique</th>\n",
       "      <td>340556</td>\n",
       "    </tr>\n",
       "    <tr>\n",
       "      <th>top</th>\n",
       "      <td>0971880107</td>\n",
       "    </tr>\n",
       "    <tr>\n",
       "      <th>freq</th>\n",
       "      <td>2502</td>\n",
       "    </tr>\n",
       "  </tbody>\n",
       "</table>\n",
       "</div>"
      ],
      "text/plain": [
       "              ISBN\n",
       "count      1149780\n",
       "unique      340556\n",
       "top     0971880107\n",
       "freq          2502"
      ]
     },
     "execution_count": 16,
     "metadata": {},
     "output_type": "execute_result"
    }
   ],
   "source": [
    "ratings.describe(include='O')"
   ]
  },
  {
   "cell_type": "code",
   "execution_count": null,
   "id": "21ce3ea2",
   "metadata": {},
   "outputs": [],
   "source": []
  },
  {
   "cell_type": "code",
   "execution_count": 17,
   "id": "f2138c65",
   "metadata": {},
   "outputs": [
    {
     "name": "stdout",
     "output_type": "stream",
     "text": [
      "<class 'pandas.core.frame.DataFrame'>\n",
      "RangeIndex: 278858 entries, 0 to 278857\n",
      "Data columns (total 3 columns):\n",
      " #   Column    Non-Null Count   Dtype  \n",
      "---  ------    --------------   -----  \n",
      " 0   User-ID   278858 non-null  int64  \n",
      " 1   Location  278858 non-null  object \n",
      " 2   Age       168096 non-null  float64\n",
      "dtypes: float64(1), int64(1), object(1)\n",
      "memory usage: 6.4+ MB\n"
     ]
    }
   ],
   "source": [
    "# basic information about users\n",
    "users.info()"
   ]
  },
  {
   "cell_type": "code",
   "execution_count": 18,
   "id": "dc58f30b",
   "metadata": {},
   "outputs": [
    {
     "data": {
      "text/html": [
       "<div>\n",
       "<style scoped>\n",
       "    .dataframe tbody tr th:only-of-type {\n",
       "        vertical-align: middle;\n",
       "    }\n",
       "\n",
       "    .dataframe tbody tr th {\n",
       "        vertical-align: top;\n",
       "    }\n",
       "\n",
       "    .dataframe thead th {\n",
       "        text-align: right;\n",
       "    }\n",
       "</style>\n",
       "<table border=\"1\" class=\"dataframe\">\n",
       "  <thead>\n",
       "    <tr style=\"text-align: right;\">\n",
       "      <th></th>\n",
       "      <th>User-ID</th>\n",
       "      <th>Age</th>\n",
       "    </tr>\n",
       "  </thead>\n",
       "  <tbody>\n",
       "    <tr>\n",
       "      <th>count</th>\n",
       "      <td>278858.00000</td>\n",
       "      <td>168096.000000</td>\n",
       "    </tr>\n",
       "    <tr>\n",
       "      <th>mean</th>\n",
       "      <td>139429.50000</td>\n",
       "      <td>34.751434</td>\n",
       "    </tr>\n",
       "    <tr>\n",
       "      <th>std</th>\n",
       "      <td>80499.51502</td>\n",
       "      <td>14.428097</td>\n",
       "    </tr>\n",
       "    <tr>\n",
       "      <th>min</th>\n",
       "      <td>1.00000</td>\n",
       "      <td>0.000000</td>\n",
       "    </tr>\n",
       "    <tr>\n",
       "      <th>25%</th>\n",
       "      <td>69715.25000</td>\n",
       "      <td>24.000000</td>\n",
       "    </tr>\n",
       "    <tr>\n",
       "      <th>50%</th>\n",
       "      <td>139429.50000</td>\n",
       "      <td>32.000000</td>\n",
       "    </tr>\n",
       "    <tr>\n",
       "      <th>75%</th>\n",
       "      <td>209143.75000</td>\n",
       "      <td>44.000000</td>\n",
       "    </tr>\n",
       "    <tr>\n",
       "      <th>max</th>\n",
       "      <td>278858.00000</td>\n",
       "      <td>244.000000</td>\n",
       "    </tr>\n",
       "  </tbody>\n",
       "</table>\n",
       "</div>"
      ],
      "text/plain": [
       "            User-ID            Age\n",
       "count  278858.00000  168096.000000\n",
       "mean   139429.50000      34.751434\n",
       "std     80499.51502      14.428097\n",
       "min         1.00000       0.000000\n",
       "25%     69715.25000      24.000000\n",
       "50%    139429.50000      32.000000\n",
       "75%    209143.75000      44.000000\n",
       "max    278858.00000     244.000000"
      ]
     },
     "execution_count": 18,
     "metadata": {},
     "output_type": "execute_result"
    }
   ],
   "source": [
    "users.describe()"
   ]
  },
  {
   "cell_type": "code",
   "execution_count": null,
   "id": "0eb9bd0b",
   "metadata": {},
   "outputs": [],
   "source": []
  },
  {
   "cell_type": "markdown",
   "id": "5d3e9665",
   "metadata": {},
   "source": [
    "### Dataset Rows & Columns count\n"
   ]
  },
  {
   "cell_type": "code",
   "execution_count": 24,
   "id": "3251ad7f",
   "metadata": {},
   "outputs": [
    {
     "name": "stdout",
     "output_type": "stream",
     "text": [
      "\tSize of books data is (271360, 8)\n",
      "        Size of ratings data is (1149780, 3)\n",
      "        Size of users data is (278858, 3)\n"
     ]
    }
   ],
   "source": [
    "print(f'''\\tSize of books data is {books.shape}\n",
    "        Size of ratings data is {ratings.shape}\n",
    "        Size of users data is {users.shape}''')"
   ]
  },
  {
   "cell_type": "markdown",
   "id": "52e22220",
   "metadata": {},
   "source": [
    "### Duplicates Values\n",
    "\n"
   ]
  },
  {
   "cell_type": "code",
   "execution_count": 26,
   "id": "9c289253",
   "metadata": {},
   "outputs": [
    {
     "name": "stdout",
     "output_type": "stream",
     "text": [
      "0\n",
      "0\n",
      "0\n"
     ]
    }
   ],
   "source": [
    "# Checking duplicates in datasets using duplicated method of dataframe\n",
    "\n",
    "print(books.duplicated().sum())\n",
    "print(ratings.duplicated().sum())\n",
    "print(users.duplicated().sum())"
   ]
  },
  {
   "cell_type": "markdown",
   "id": "5a312252",
   "metadata": {},
   "source": [
    "### Checking for null values"
   ]
  },
  {
   "cell_type": "code",
   "execution_count": 27,
   "id": "ac868aab",
   "metadata": {},
   "outputs": [
    {
     "data": {
      "text/plain": [
       "ISBN                   0\n",
       "Book-Title             0\n",
       "Book-Author            2\n",
       "Year-Of-Publication    0\n",
       "Publisher              2\n",
       "Image-URL-S            0\n",
       "Image-URL-M            0\n",
       "Image-URL-L            3\n",
       "dtype: int64"
      ]
     },
     "execution_count": 27,
     "metadata": {},
     "output_type": "execute_result"
    }
   ],
   "source": [
    "books.isnull().sum()"
   ]
  },
  {
   "cell_type": "code",
   "execution_count": 28,
   "id": "49d61f3f",
   "metadata": {},
   "outputs": [
    {
     "data": {
      "text/plain": [
       "User-ID          0\n",
       "Location         0\n",
       "Age         110762\n",
       "dtype: int64"
      ]
     },
     "execution_count": 28,
     "metadata": {},
     "output_type": "execute_result"
    }
   ],
   "source": [
    "users.isnull().sum()"
   ]
  },
  {
   "cell_type": "markdown",
   "id": "c3b79558",
   "metadata": {},
   "source": [
    "Well, there are lot of null values in Age column. It doesn't affect our model as we won't be using it for this system."
   ]
  },
  {
   "cell_type": "code",
   "execution_count": 29,
   "id": "8ea2a1b8",
   "metadata": {},
   "outputs": [
    {
     "data": {
      "text/plain": [
       "User-ID        0\n",
       "ISBN           0\n",
       "Book-Rating    0\n",
       "dtype: int64"
      ]
     },
     "execution_count": 29,
     "metadata": {},
     "output_type": "execute_result"
    }
   ],
   "source": [
    "ratings.isnull().sum()"
   ]
  },
  {
   "cell_type": "markdown",
   "id": "5f6f3512",
   "metadata": {},
   "source": [
    "### Count of unique values"
   ]
  },
  {
   "cell_type": "code",
   "execution_count": 31,
   "id": "1d92b443",
   "metadata": {},
   "outputs": [
    {
     "data": {
      "text/plain": [
       "ISBN                   271360\n",
       "Book-Title             242135\n",
       "Book-Author            102022\n",
       "Year-Of-Publication       202\n",
       "Publisher               16807\n",
       "Image-URL-S            271044\n",
       "Image-URL-M            271044\n",
       "Image-URL-L            271041\n",
       "dtype: int64"
      ]
     },
     "execution_count": 31,
     "metadata": {},
     "output_type": "execute_result"
    }
   ],
   "source": [
    "books.nunique()"
   ]
  },
  {
   "cell_type": "code",
   "execution_count": 32,
   "id": "53dd43b8",
   "metadata": {},
   "outputs": [
    {
     "data": {
      "text/plain": [
       "User-ID     278858\n",
       "Location     57339\n",
       "Age            165\n",
       "dtype: int64"
      ]
     },
     "execution_count": 32,
     "metadata": {},
     "output_type": "execute_result"
    }
   ],
   "source": [
    "users.nunique()"
   ]
  },
  {
   "cell_type": "code",
   "execution_count": 34,
   "id": "ddccc3c7",
   "metadata": {},
   "outputs": [
    {
     "data": {
      "text/plain": [
       "User-ID        105283\n",
       "ISBN           340556\n",
       "Book-Rating        11\n",
       "dtype: int64"
      ]
     },
     "execution_count": 34,
     "metadata": {},
     "output_type": "execute_result"
    }
   ],
   "source": [
    "ratings.nunique()"
   ]
  },
  {
   "cell_type": "code",
   "execution_count": null,
   "id": "8228d37d",
   "metadata": {},
   "outputs": [],
   "source": []
  },
  {
   "cell_type": "markdown",
   "id": "9d1e94e6",
   "metadata": {},
   "source": [
    "## Data Pre-processing and Cleaning"
   ]
  },
  {
   "cell_type": "code",
   "execution_count": 36,
   "id": "7471a47c",
   "metadata": {},
   "outputs": [
    {
     "data": {
      "text/html": [
       "<div>\n",
       "<style scoped>\n",
       "    .dataframe tbody tr th:only-of-type {\n",
       "        vertical-align: middle;\n",
       "    }\n",
       "\n",
       "    .dataframe tbody tr th {\n",
       "        vertical-align: top;\n",
       "    }\n",
       "\n",
       "    .dataframe thead th {\n",
       "        text-align: right;\n",
       "    }\n",
       "</style>\n",
       "<table border=\"1\" class=\"dataframe\">\n",
       "  <thead>\n",
       "    <tr style=\"text-align: right;\">\n",
       "      <th></th>\n",
       "      <th>User-ID</th>\n",
       "      <th>Location</th>\n",
       "      <th>Age</th>\n",
       "      <th>ISBN</th>\n",
       "      <th>Book-Rating</th>\n",
       "      <th>Book-Title</th>\n",
       "      <th>Book-Author</th>\n",
       "      <th>Year-Of-Publication</th>\n",
       "      <th>Publisher</th>\n",
       "      <th>Image-URL-S</th>\n",
       "      <th>Image-URL-M</th>\n",
       "      <th>Image-URL-L</th>\n",
       "    </tr>\n",
       "  </thead>\n",
       "  <tbody>\n",
       "    <tr>\n",
       "      <th>0</th>\n",
       "      <td>2</td>\n",
       "      <td>stockton, new york, usa</td>\n",
       "      <td>18.0</td>\n",
       "      <td>0195153448</td>\n",
       "      <td>0</td>\n",
       "      <td>Classical Mythology</td>\n",
       "      <td>Mark P. O. Morford</td>\n",
       "      <td>2002</td>\n",
       "      <td>Oxford University Press</td>\n",
       "      <td>http://images.amazon.com/images/P/0195153448.0...</td>\n",
       "      <td>http://images.amazon.com/images/P/0195153448.0...</td>\n",
       "      <td>http://images.amazon.com/images/P/0195153448.0...</td>\n",
       "    </tr>\n",
       "    <tr>\n",
       "      <th>1</th>\n",
       "      <td>8</td>\n",
       "      <td>timmins, ontario, canada</td>\n",
       "      <td>NaN</td>\n",
       "      <td>0002005018</td>\n",
       "      <td>5</td>\n",
       "      <td>Clara Callan</td>\n",
       "      <td>Richard Bruce Wright</td>\n",
       "      <td>2001</td>\n",
       "      <td>HarperFlamingo Canada</td>\n",
       "      <td>http://images.amazon.com/images/P/0002005018.0...</td>\n",
       "      <td>http://images.amazon.com/images/P/0002005018.0...</td>\n",
       "      <td>http://images.amazon.com/images/P/0002005018.0...</td>\n",
       "    </tr>\n",
       "    <tr>\n",
       "      <th>2</th>\n",
       "      <td>11400</td>\n",
       "      <td>ottawa, ontario, canada</td>\n",
       "      <td>49.0</td>\n",
       "      <td>0002005018</td>\n",
       "      <td>0</td>\n",
       "      <td>Clara Callan</td>\n",
       "      <td>Richard Bruce Wright</td>\n",
       "      <td>2001</td>\n",
       "      <td>HarperFlamingo Canada</td>\n",
       "      <td>http://images.amazon.com/images/P/0002005018.0...</td>\n",
       "      <td>http://images.amazon.com/images/P/0002005018.0...</td>\n",
       "      <td>http://images.amazon.com/images/P/0002005018.0...</td>\n",
       "    </tr>\n",
       "    <tr>\n",
       "      <th>3</th>\n",
       "      <td>11676</td>\n",
       "      <td>n/a, n/a, n/a</td>\n",
       "      <td>NaN</td>\n",
       "      <td>0002005018</td>\n",
       "      <td>8</td>\n",
       "      <td>Clara Callan</td>\n",
       "      <td>Richard Bruce Wright</td>\n",
       "      <td>2001</td>\n",
       "      <td>HarperFlamingo Canada</td>\n",
       "      <td>http://images.amazon.com/images/P/0002005018.0...</td>\n",
       "      <td>http://images.amazon.com/images/P/0002005018.0...</td>\n",
       "      <td>http://images.amazon.com/images/P/0002005018.0...</td>\n",
       "    </tr>\n",
       "    <tr>\n",
       "      <th>4</th>\n",
       "      <td>41385</td>\n",
       "      <td>sudbury, ontario, canada</td>\n",
       "      <td>NaN</td>\n",
       "      <td>0002005018</td>\n",
       "      <td>0</td>\n",
       "      <td>Clara Callan</td>\n",
       "      <td>Richard Bruce Wright</td>\n",
       "      <td>2001</td>\n",
       "      <td>HarperFlamingo Canada</td>\n",
       "      <td>http://images.amazon.com/images/P/0002005018.0...</td>\n",
       "      <td>http://images.amazon.com/images/P/0002005018.0...</td>\n",
       "      <td>http://images.amazon.com/images/P/0002005018.0...</td>\n",
       "    </tr>\n",
       "  </tbody>\n",
       "</table>\n",
       "</div>"
      ],
      "text/plain": [
       "   User-ID                  Location   Age        ISBN  Book-Rating  \\\n",
       "0        2   stockton, new york, usa  18.0  0195153448            0   \n",
       "1        8  timmins, ontario, canada   NaN  0002005018            5   \n",
       "2    11400   ottawa, ontario, canada  49.0  0002005018            0   \n",
       "3    11676             n/a, n/a, n/a   NaN  0002005018            8   \n",
       "4    41385  sudbury, ontario, canada   NaN  0002005018            0   \n",
       "\n",
       "            Book-Title           Book-Author Year-Of-Publication  \\\n",
       "0  Classical Mythology    Mark P. O. Morford                2002   \n",
       "1         Clara Callan  Richard Bruce Wright                2001   \n",
       "2         Clara Callan  Richard Bruce Wright                2001   \n",
       "3         Clara Callan  Richard Bruce Wright                2001   \n",
       "4         Clara Callan  Richard Bruce Wright                2001   \n",
       "\n",
       "                 Publisher                                        Image-URL-S  \\\n",
       "0  Oxford University Press  http://images.amazon.com/images/P/0195153448.0...   \n",
       "1    HarperFlamingo Canada  http://images.amazon.com/images/P/0002005018.0...   \n",
       "2    HarperFlamingo Canada  http://images.amazon.com/images/P/0002005018.0...   \n",
       "3    HarperFlamingo Canada  http://images.amazon.com/images/P/0002005018.0...   \n",
       "4    HarperFlamingo Canada  http://images.amazon.com/images/P/0002005018.0...   \n",
       "\n",
       "                                         Image-URL-M  \\\n",
       "0  http://images.amazon.com/images/P/0195153448.0...   \n",
       "1  http://images.amazon.com/images/P/0002005018.0...   \n",
       "2  http://images.amazon.com/images/P/0002005018.0...   \n",
       "3  http://images.amazon.com/images/P/0002005018.0...   \n",
       "4  http://images.amazon.com/images/P/0002005018.0...   \n",
       "\n",
       "                                         Image-URL-L  \n",
       "0  http://images.amazon.com/images/P/0195153448.0...  \n",
       "1  http://images.amazon.com/images/P/0002005018.0...  \n",
       "2  http://images.amazon.com/images/P/0002005018.0...  \n",
       "3  http://images.amazon.com/images/P/0002005018.0...  \n",
       "4  http://images.amazon.com/images/P/0002005018.0...  "
      ]
     },
     "execution_count": 36,
     "metadata": {},
     "output_type": "execute_result"
    }
   ],
   "source": [
    "# merging the data frames\n",
    "merged_df = pd.merge(users, ratings, on = 'User-ID') # merging users with ratings based on User-ID\n",
    "merged_df = pd.merge(merged_df, books, on = 'ISBN')\n",
    "\n",
    "merged_df.head()"
   ]
  },
  {
   "cell_type": "code",
   "execution_count": 37,
   "id": "30dc2d5b",
   "metadata": {},
   "outputs": [
    {
     "name": "stdout",
     "output_type": "stream",
     "text": [
      "<class 'pandas.core.frame.DataFrame'>\n",
      "RangeIndex: 1031136 entries, 0 to 1031135\n",
      "Data columns (total 12 columns):\n",
      " #   Column               Non-Null Count    Dtype  \n",
      "---  ------               --------------    -----  \n",
      " 0   User-ID              1031136 non-null  int64  \n",
      " 1   Location             1031136 non-null  object \n",
      " 2   Age                  753301 non-null   float64\n",
      " 3   ISBN                 1031136 non-null  object \n",
      " 4   Book-Rating          1031136 non-null  int64  \n",
      " 5   Book-Title           1031136 non-null  object \n",
      " 6   Book-Author          1031134 non-null  object \n",
      " 7   Year-Of-Publication  1031136 non-null  object \n",
      " 8   Publisher            1031134 non-null  object \n",
      " 9   Image-URL-S          1031136 non-null  object \n",
      " 10  Image-URL-M          1031136 non-null  object \n",
      " 11  Image-URL-L          1031132 non-null  object \n",
      "dtypes: float64(1), int64(2), object(9)\n",
      "memory usage: 94.4+ MB\n"
     ]
    }
   ],
   "source": [
    "merged_df.info()"
   ]
  },
  {
   "cell_type": "code",
   "execution_count": 38,
   "id": "5a3f539a",
   "metadata": {},
   "outputs": [
    {
     "data": {
      "text/plain": [
       "(1031136, 12)"
      ]
     },
     "execution_count": 38,
     "metadata": {},
     "output_type": "execute_result"
    }
   ],
   "source": [
    "merged_df.shape"
   ]
  },
  {
   "cell_type": "markdown",
   "id": "9c0d5ff9",
   "metadata": {},
   "source": [
    "There are 1,031,136 records and 12 columns in final dataframe"
   ]
  },
  {
   "cell_type": "code",
   "execution_count": 39,
   "id": "3dfe3ea1",
   "metadata": {},
   "outputs": [
    {
     "data": {
      "text/plain": [
       "0"
      ]
     },
     "execution_count": 39,
     "metadata": {},
     "output_type": "execute_result"
    }
   ],
   "source": [
    "# total duplciated present in the data\n",
    "merged_df.duplicated().sum()"
   ]
  },
  {
   "cell_type": "code",
   "execution_count": 40,
   "id": "503a0b33",
   "metadata": {},
   "outputs": [],
   "source": [
    "# Dropping last three columns containing image URLs what are not required for the analysis\n",
    "merged_df.drop(['Image-URL-S','Image-URL-M','Image-URL-L'], axis = 1, inplace = True)"
   ]
  },
  {
   "cell_type": "code",
   "execution_count": 43,
   "id": "420605ec",
   "metadata": {},
   "outputs": [
    {
     "data": {
      "text/plain": [
       "Index(['User_ID', 'Location', 'Age', 'ISBN', 'Book_Rating', 'Book_Title',\n",
       "       'Book_Author', 'Year_Of_Publication', 'Publisher'],\n",
       "      dtype='object')"
      ]
     },
     "execution_count": 43,
     "metadata": {},
     "output_type": "execute_result"
    }
   ],
   "source": [
    "# Making column names handy to use\n",
    "# Replacing '-' with '_' and column name in lower case\n",
    "\n",
    "merged_df.columns = merged_df.columns.str.replace('-','_')\n",
    "\n",
    "merged_df.columns"
   ]
  },
  {
   "cell_type": "code",
   "execution_count": 44,
   "id": "cfdfd6ac",
   "metadata": {},
   "outputs": [
    {
     "data": {
      "text/plain": [
       "array([' usa', ' canada', ' n/a', '', ' malaysia', ' spain',\n",
       "       ' new zealand', ' finland', ' united kingdom', ' portugal',\n",
       "       ' brazil', ' germany', ' austria', ' italy', ' netherlands',\n",
       "       ' australia', ' france', ' costa rica', ' poland', ' us', ' iran',\n",
       "       ' aruba', ' india', ' pakistan', ' taiwan', ' singapore',\n",
       "       ' argentina', ' romania', ' greece', ' ireland', ' philippines',\n",
       "       ' belgium', ' philippines\"', ' mexico', ' south africa',\n",
       "       ' burkina faso', ' croatia', ' switzerland', ' denmark', ' rwanda',\n",
       "       ' yugoslavia', ' turkey', ' china', ' japan', ' qatar', ' latvia',\n",
       "       ' sweden', ' kuwait', ' indonesia', ' nepal', ' peru',\n",
       "       ' venezuela', ' south korea\"', ' hong kong', ' united states',\n",
       "       ' slovakia', ' norway', ' dominican republic',\n",
       "       ' bosnia and herzegovina', ' south korea', ' macedonia', ' kenya',\n",
       "       ' mauritius', ' catalonia', ' nigeria', ' madagascar', ' israel',\n",
       "       ' oman', ' egypt', ' lithuania', ' guatemala', ' euskal herria',\n",
       "       ' russia', ' palau', ' bermuda', ' far away...', ' antarctica',\n",
       "       ' andorra', ' united state', ' czech republic', ' bulgaria',\n",
       "       ' england', ' everywhere and anywhere', ' slovenia', ' chile',\n",
       "       ' k1c7b1', ' luxembourg', ' iceland', ' honduras', ' zambia',\n",
       "       ' zimbabwe', ' phillipines', ' trinidad and tobago', ' belize',\n",
       "       ' algeria', ' jamaica', ' benin', ' van wert', ' bahamas',\n",
       "       ' saudi arabia', ' cyprus', ' puerto rico', ' universe',\n",
       "       ' albania', ' mozambique', ' ukraine', ' guinea',\n",
       "       ' united arab emirates', ' america', ' quit', ' cayman islands',\n",
       "       ' tdzimi', ' netherlands\"', ' sri lanka', ' saint lucia',\n",
       "       ' st.thomasi', ' malta', ' burlington', ' turkmenistan', ' shelby',\n",
       "       ' barbados', ' paraguay', ' n/a - on the road', ' laos',\n",
       "       ' st. helena', ' la france', ' greece\"', ' haiti', ' san mateo',\n",
       "       ' hungary', ' rutherford', ' tunisia', ' ua', ' caribbean sea',\n",
       "       ' cape verde', ' burma', ' tanzania', ' morgan', ' senegal',\n",
       "       ' guernsey', ' spain\"', ' republic of panama', ' cuba', ' france\"',\n",
       "       ' deutschland', ' portugal\"', ' ysa', ' thailand', ' pender',\n",
       "       ' bahrain', ' ethiopia', ' unknown', ' moldova', ' framingham',\n",
       "       ' denmark\"', '\"', ' onondaga nation', ' united staes', ' mongolia',\n",
       "       ' ecuador', ' channel islands', ' alderney', ' italia', ' angola',\n",
       "       ' richmond country', ' bolivia', ' ghana', ' switzerland\"',\n",
       "       ' tobago', ' estonia', ' afghanistan', ' kosovo', ' jersey',\n",
       "       ' tonga', ' papua new guinea', ' worcester', ' uruguay', ' csa',\n",
       "       ' solomon islands', ' ireland\"', ' orense', ' georgia', ' urugua',\n",
       "       ' collin', ' u.s.a.', ' kazakhstan', ' turkey\"', ' catalunya',\n",
       "       ' new zealand\"', ' u.k.', ' kern', ' uzbekistan', ' panama',\n",
       "       ' we`re global!', ' space', ' polk', ' colombia', ' españa',\n",
       "       ' wales', ' u.s. of a.', ' aroostook', ' grenada',\n",
       "       ' united states of america', ' orange co', ' thailand\"', ' niger',\n",
       "       ' c.a.', ' iraq', ' ventura county', ' lkjlj', ' ouranos',\n",
       "       ' galiza', ' lebanon', ' x', ' monaco', ' u.a.e', ' alachua',\n",
       "       ' la chine éternelle !', ' china\"', ' la chine éternelle!',\n",
       "       ' samoa', ' vietnam', ' marshall islands', ' c',\n",
       "       ' united kindgonm', ' hernando', ' scotland', ' luxembourg\"',\n",
       "       ' antigua and barbuda', ' ee.uu', ' cananda', ' cambodia',\n",
       "       ' hungary\"', ' nz', ' uganda', ' tajikistan', ' catalunya spain',\n",
       "       ' galiza neghra', ' lleida', ' mexico\"', ' l`italia', ' madrid',\n",
       "       ' guam', ' italy\"', ' ferrara', ' brunei',\n",
       "       ' los estados unidos de norte america', ' germany\"', ' camden',\n",
       "       ' finland\"', ' petrolwar nation', ' morocco', ' maricopa',\n",
       "       ' berguedà', ' the great white north', ' norway\"', ' cherokee',\n",
       "       ' cameroon', ' hungary and usa', ' la belgique', ' belgium\"',\n",
       "       ' u.s>', ' sweden\"', ' united kingdom\"', ' saint loius', ' syria',\n",
       "       ' here and there', ' la suisse', ' bangladesh', ' the',\n",
       "       ' guinea-bissau', ' croatia\"', ' fort bend', ' u.s.a>',\n",
       "       ' prince william', ' united sates',\n",
       "       ' disgruntled states of america', ' fiji', ' usa & canada',\n",
       "       ' \\\\\"n/a\\\\\"\"', ' san franicsco', ' gabon', ' the world tomorrow',\n",
       "       ' argentina\"', ' usa (currently living in england)', ' macau',\n",
       "       ' maracopa', ' el salvador'], dtype=object)"
      ]
     },
     "execution_count": 44,
     "metadata": {},
     "output_type": "execute_result"
    }
   ],
   "source": [
    "# Create a country column at the place of Location\n",
    "\n",
    "merged_df['Country'] = merged_df['Location'].astype(str).apply(lambda x:x.split(',')[-1])\n",
    "\n",
    "# Drop the location column\n",
    "merged_df.drop('Location', axis = 1, inplace = True)\n",
    "\n",
    "merged_df['Country'].unique()"
   ]
  },
  {
   "cell_type": "code",
   "execution_count": 50,
   "id": "41f78a7e",
   "metadata": {},
   "outputs": [
    {
     "data": {
      "text/plain": [
       "array([' usa', ' canada', 'other', ' malaysia', ' spain', ' new zealand',\n",
       "       ' finland', ' united kingdom', ' portugal', ' brazil', ' germany',\n",
       "       ' austria', ' italy', ' netherlands', ' australia', ' france',\n",
       "       ' costa rica', ' poland', ' us', ' iran', ' aruba', ' india',\n",
       "       ' pakistan', ' taiwan', ' singapore', ' argentina', ' romania',\n",
       "       ' greece', ' ireland', ' philippines', ' belgium', ' philippines\"',\n",
       "       ' mexico', ' south africa', ' burkina faso', ' croatia',\n",
       "       ' switzerland', ' denmark', ' rwanda', ' yugoslavia', ' turkey',\n",
       "       ' china', ' japan', ' qatar', ' latvia', ' sweden', ' kuwait',\n",
       "       ' indonesia', ' nepal', ' peru', ' venezuela', ' south korea\"',\n",
       "       ' hong kong', ' united states', ' slovakia', ' norway',\n",
       "       ' dominican republic', ' bosnia and herzegovina', ' south korea',\n",
       "       ' macedonia', ' kenya', ' mauritius', ' catalonia', ' nigeria',\n",
       "       ' madagascar', ' israel', ' oman', ' egypt', ' lithuania',\n",
       "       ' guatemala', ' euskal herria', ' russia', ' palau', ' bermuda',\n",
       "       ' far away...', ' antarctica', ' andorra', ' united state',\n",
       "       ' czech republic', ' bulgaria', ' england',\n",
       "       ' everywhere and anywhere', ' slovenia', ' chile', ' k1c7b1',\n",
       "       ' luxembourg', ' iceland', ' honduras', ' zambia', ' zimbabwe',\n",
       "       ' phillipines', ' trinidad and tobago', ' belize', ' algeria',\n",
       "       ' jamaica', ' benin', ' van wert', ' bahamas', ' saudi arabia',\n",
       "       ' cyprus', ' puerto rico', ' universe', ' albania', ' mozambique',\n",
       "       ' ukraine', ' guinea', ' united arab emirates', ' america',\n",
       "       ' quit', ' cayman islands', ' tdzimi', ' netherlands\"',\n",
       "       ' sri lanka', ' saint lucia', ' st.thomasi', ' malta',\n",
       "       ' burlington', ' turkmenistan', ' shelby', ' barbados',\n",
       "       ' paraguay', ' n/a - on the road', ' laos', ' st. helena',\n",
       "       ' la france', ' greece\"', ' haiti', ' san mateo', ' hungary',\n",
       "       ' rutherford', ' tunisia', ' ua', ' caribbean sea', ' cape verde',\n",
       "       ' burma', ' tanzania', ' morgan', ' senegal', ' guernsey',\n",
       "       ' spain\"', ' republic of panama', ' cuba', ' france\"',\n",
       "       ' deutschland', ' portugal\"', ' ysa', ' thailand', ' pender',\n",
       "       ' bahrain', ' ethiopia', ' unknown', ' moldova', ' framingham',\n",
       "       ' denmark\"', '\"', ' onondaga nation', ' united staes', ' mongolia',\n",
       "       ' ecuador', ' channel islands', ' alderney', ' italia', ' angola',\n",
       "       ' richmond country', ' bolivia', ' ghana', ' switzerland\"',\n",
       "       ' tobago', ' estonia', ' afghanistan', ' kosovo', ' jersey',\n",
       "       ' tonga', ' papua new guinea', ' worcester', ' uruguay', ' csa',\n",
       "       ' solomon islands', ' ireland\"', ' orense', ' georgia', ' urugua',\n",
       "       ' collin', ' u.s.a.', ' kazakhstan', ' turkey\"', ' catalunya',\n",
       "       ' new zealand\"', ' u.k.', ' kern', ' uzbekistan', ' panama',\n",
       "       ' we`re global!', ' space', ' polk', ' colombia', ' españa',\n",
       "       ' wales', ' u.s. of a.', ' aroostook', ' grenada',\n",
       "       ' united states of america', ' orange co', ' thailand\"', ' niger',\n",
       "       ' c.a.', ' iraq', ' ventura county', ' lkjlj', ' ouranos',\n",
       "       ' galiza', ' lebanon', ' x', ' monaco', ' u.a.e', ' alachua',\n",
       "       ' la chine éternelle !', ' china\"', ' la chine éternelle!',\n",
       "       ' samoa', ' vietnam', ' marshall islands', ' c',\n",
       "       ' united kindgonm', ' hernando', ' scotland', ' luxembourg\"',\n",
       "       ' antigua and barbuda', ' ee.uu', ' cananda', ' cambodia',\n",
       "       ' hungary\"', ' nz', ' uganda', ' tajikistan', ' catalunya spain',\n",
       "       ' galiza neghra', ' lleida', ' mexico\"', ' l`italia', ' madrid',\n",
       "       ' guam', ' italy\"', ' ferrara', ' brunei',\n",
       "       ' los estados unidos de norte america', ' germany\"', ' camden',\n",
       "       ' finland\"', ' petrolwar nation', ' morocco', ' maricopa',\n",
       "       ' berguedà', ' the great white north', ' norway\"', ' cherokee',\n",
       "       ' cameroon', ' hungary and usa', ' la belgique', ' belgium\"',\n",
       "       ' u.s>', ' sweden\"', ' united kingdom\"', ' saint loius', ' syria',\n",
       "       ' here and there', ' la suisse', ' bangladesh', ' the',\n",
       "       ' guinea-bissau', ' croatia\"', ' fort bend', ' u.s.a>',\n",
       "       ' prince william', ' united sates',\n",
       "       ' disgruntled states of america', ' fiji', ' usa & canada',\n",
       "       ' \\\\\"n/a\\\\\"\"', ' san franicsco', ' gabon', ' the world tomorrow',\n",
       "       ' argentina\"', ' usa (currently living in england)', ' macau',\n",
       "       ' maracopa', ' el salvador'], dtype=object)"
      ]
     },
     "execution_count": 50,
     "metadata": {},
     "output_type": "execute_result"
    }
   ],
   "source": [
    "# fixing unknown and missing value\n",
    "\n",
    "merged_df['Country'] = merged_df['Country'].replace('','other').replace(' n/a','other')\n",
    "\n",
    "merged_df['Country'].unique()"
   ]
  },
  {
   "cell_type": "code",
   "execution_count": 51,
   "id": "e3c4b3d3",
   "metadata": {},
   "outputs": [
    {
     "data": {
      "text/plain": [
       "User_ID                     0\n",
       "Age                    277835\n",
       "ISBN                        0\n",
       "Book_Rating                 0\n",
       "Book_Title                  0\n",
       "Book_Author                 2\n",
       "Year_Of_Publication         0\n",
       "Publisher                   2\n",
       "Country                     0\n",
       "dtype: int64"
      ]
     },
     "execution_count": 51,
     "metadata": {},
     "output_type": "execute_result"
    }
   ],
   "source": [
    "merged_df.isnull().sum()"
   ]
  },
  {
   "cell_type": "code",
   "execution_count": 52,
   "id": "5deccbd7",
   "metadata": {},
   "outputs": [
    {
     "data": {
      "text/html": [
       "<div>\n",
       "<style scoped>\n",
       "    .dataframe tbody tr th:only-of-type {\n",
       "        vertical-align: middle;\n",
       "    }\n",
       "\n",
       "    .dataframe tbody tr th {\n",
       "        vertical-align: top;\n",
       "    }\n",
       "\n",
       "    .dataframe thead th {\n",
       "        text-align: right;\n",
       "    }\n",
       "</style>\n",
       "<table border=\"1\" class=\"dataframe\">\n",
       "  <thead>\n",
       "    <tr style=\"text-align: right;\">\n",
       "      <th></th>\n",
       "      <th>User_ID</th>\n",
       "      <th>Age</th>\n",
       "      <th>ISBN</th>\n",
       "      <th>Book_Rating</th>\n",
       "      <th>Book_Title</th>\n",
       "      <th>Book_Author</th>\n",
       "      <th>Year_Of_Publication</th>\n",
       "      <th>Publisher</th>\n",
       "      <th>Country</th>\n",
       "    </tr>\n",
       "  </thead>\n",
       "  <tbody>\n",
       "    <tr>\n",
       "      <th>0</th>\n",
       "      <td>2</td>\n",
       "      <td>18.0</td>\n",
       "      <td>0195153448</td>\n",
       "      <td>0</td>\n",
       "      <td>Classical Mythology</td>\n",
       "      <td>Mark P. O. Morford</td>\n",
       "      <td>2002</td>\n",
       "      <td>Oxford University Press</td>\n",
       "      <td>usa</td>\n",
       "    </tr>\n",
       "    <tr>\n",
       "      <th>1</th>\n",
       "      <td>8</td>\n",
       "      <td>NaN</td>\n",
       "      <td>0002005018</td>\n",
       "      <td>5</td>\n",
       "      <td>Clara Callan</td>\n",
       "      <td>Richard Bruce Wright</td>\n",
       "      <td>2001</td>\n",
       "      <td>HarperFlamingo Canada</td>\n",
       "      <td>canada</td>\n",
       "    </tr>\n",
       "    <tr>\n",
       "      <th>2</th>\n",
       "      <td>11400</td>\n",
       "      <td>49.0</td>\n",
       "      <td>0002005018</td>\n",
       "      <td>0</td>\n",
       "      <td>Clara Callan</td>\n",
       "      <td>Richard Bruce Wright</td>\n",
       "      <td>2001</td>\n",
       "      <td>HarperFlamingo Canada</td>\n",
       "      <td>canada</td>\n",
       "    </tr>\n",
       "    <tr>\n",
       "      <th>3</th>\n",
       "      <td>11676</td>\n",
       "      <td>NaN</td>\n",
       "      <td>0002005018</td>\n",
       "      <td>8</td>\n",
       "      <td>Clara Callan</td>\n",
       "      <td>Richard Bruce Wright</td>\n",
       "      <td>2001</td>\n",
       "      <td>HarperFlamingo Canada</td>\n",
       "      <td>other</td>\n",
       "    </tr>\n",
       "    <tr>\n",
       "      <th>4</th>\n",
       "      <td>41385</td>\n",
       "      <td>NaN</td>\n",
       "      <td>0002005018</td>\n",
       "      <td>0</td>\n",
       "      <td>Clara Callan</td>\n",
       "      <td>Richard Bruce Wright</td>\n",
       "      <td>2001</td>\n",
       "      <td>HarperFlamingo Canada</td>\n",
       "      <td>canada</td>\n",
       "    </tr>\n",
       "  </tbody>\n",
       "</table>\n",
       "</div>"
      ],
      "text/plain": [
       "   User_ID   Age        ISBN  Book_Rating           Book_Title  \\\n",
       "0        2  18.0  0195153448            0  Classical Mythology   \n",
       "1        8   NaN  0002005018            5         Clara Callan   \n",
       "2    11400  49.0  0002005018            0         Clara Callan   \n",
       "3    11676   NaN  0002005018            8         Clara Callan   \n",
       "4    41385   NaN  0002005018            0         Clara Callan   \n",
       "\n",
       "            Book_Author Year_Of_Publication                Publisher  Country  \n",
       "0    Mark P. O. Morford                2002  Oxford University Press      usa  \n",
       "1  Richard Bruce Wright                2001    HarperFlamingo Canada   canada  \n",
       "2  Richard Bruce Wright                2001    HarperFlamingo Canada   canada  \n",
       "3  Richard Bruce Wright                2001    HarperFlamingo Canada    other  \n",
       "4  Richard Bruce Wright                2001    HarperFlamingo Canada   canada  "
      ]
     },
     "execution_count": 52,
     "metadata": {},
     "output_type": "execute_result"
    }
   ],
   "source": [
    "merged_df.head()"
   ]
  },
  {
   "cell_type": "code",
   "execution_count": 54,
   "id": "4107a354",
   "metadata": {},
   "outputs": [
    {
     "data": {
      "text/plain": [
       "array([2002, 2001, 1991, 1999, 2000, 1993, 1996, 1988, 2004, 1998, 1994,\n",
       "       2003, 1997, 1987, 1989, 1992, 1983, 1979, 1995, 1982, 1985, 1986,\n",
       "       1978, 1980, 1952, 1990, 1981, 0, 1984, 1968, 1961, 1959, 1946,\n",
       "       1974, 1958, 1976, 1971, '2002', 1977, 1975, 1965, 1941, 1970,\n",
       "       '1996', '1999', 1972, '1989', '1992', '2001', 1953, 1962, 1973,\n",
       "       '2004', 1960, '1997', '2000', '0', 1954, 1966, 1920, '1998',\n",
       "       '2003', 1967, 1956, 1942, 1955, 1951, 1969, 1948, '1977', '1990',\n",
       "       '1986', '1994', '1982', 1963, 1964, '1995', '1959', '1988', 1950,\n",
       "       '1991', '1984', 2005, 1943, '1993', '1987', '1983', '1981', 1957,\n",
       "       '1972', '1980', 1937, 1940, '1965', '1970', '1979', 1930, 1923,\n",
       "       1945, 1947, '1976', 1936, '1985', '1978', 1925, '1966', '1958',\n",
       "       '1975', '1973', 1927, '1974', '1967', '1971', '1969', 2030, '1968',\n",
       "       2011, '1960', '1964', 2020, 1939, 1926, 1938, '1961', 1911, 1904,\n",
       "       1949, 1932, 1929, '1953', '1963', '1955', '1944', '1920', '1956',\n",
       "       '1957', '1942', '1933', '1962', '1952', '1922', '1897', '1954',\n",
       "       '1941', '1949', '1939', 2050, '1947', 1902, 1924, 1921, 1900,\n",
       "       '1945', '2005', 2038, 2010, 1928, '1932', '1911', '2006', '1948',\n",
       "       '1923', '1943', 1901, 2026, '1900', 2021, '1951', 1931, '1940',\n",
       "       '1378', '2030', '1946', '1950', 1908, '1938', 'DK Publishing Inc',\n",
       "       'Gallimard', '1909', '1924', '2012', '2008', '1936', 1935, '1376',\n",
       "       '1926', '2037', '1931', '1927', 1906, 1806, 1933, 1944, 1917,\n",
       "       '2020', '1930', '2011', '1919', 1914, 1934, 1910, '2024'],\n",
       "      dtype=object)"
      ]
     },
     "execution_count": 54,
     "metadata": {},
     "output_type": "execute_result"
    }
   ],
   "source": [
    "# Getting unique value from 'Year_of_Publication'\n",
    "merged_df['Year_Of_Publication'].unique()"
   ]
  },
  {
   "cell_type": "markdown",
   "id": "44b0d370",
   "metadata": {},
   "source": [
    "Since we can see that book_author and publisher columns have negligible missing values, so we can drop these records which is not going to impact on overall accuracy"
   ]
  },
  {
   "cell_type": "code",
   "execution_count": 56,
   "id": "41b6b767",
   "metadata": {},
   "outputs": [
    {
     "name": "stderr",
     "output_type": "stream",
     "text": [
      "C:\\Users\\Aayush\\AppData\\Local\\Temp\\ipykernel_18712\\3113569220.py:1: SettingWithCopyWarning: \n",
      "A value is trying to be set on a copy of a slice from a DataFrame\n",
      "\n",
      "See the caveats in the documentation: https://pandas.pydata.org/pandas-docs/stable/user_guide/indexing.html#returning-a-view-versus-a-copy\n",
      "  merged_df[['Book_Author','Publisher']].dropna(inplace=True)\n"
     ]
    }
   ],
   "source": [
    "merged_df[['Book_Author','Publisher']].dropna(inplace=True)"
   ]
  },
  {
   "cell_type": "code",
   "execution_count": 59,
   "id": "42de54fe",
   "metadata": {},
   "outputs": [],
   "source": [
    "index_list = list(merged_df[(merged_df['Year_Of_Publication'] == 'DK Publishing Inc') | (merged_df['Year_Of_Publication'] == 'Gallimard')].index)"
   ]
  },
  {
   "cell_type": "code",
   "execution_count": 60,
   "id": "1ffa0a19",
   "metadata": {},
   "outputs": [
    {
     "data": {
      "text/plain": [
       "[906829, 913994, 946370, 946371]"
      ]
     },
     "execution_count": 60,
     "metadata": {},
     "output_type": "execute_result"
    }
   ],
   "source": [
    "index_list"
   ]
  },
  {
   "cell_type": "code",
   "execution_count": 62,
   "id": "d44250fd",
   "metadata": {},
   "outputs": [],
   "source": [
    "merged_df.drop(index = index_list, inplace = True)"
   ]
  },
  {
   "cell_type": "code",
   "execution_count": 63,
   "id": "1e06bc5b",
   "metadata": {},
   "outputs": [
    {
     "data": {
      "text/plain": [
       "dtype('int64')"
      ]
     },
     "execution_count": 63,
     "metadata": {},
     "output_type": "execute_result"
    }
   ],
   "source": [
    "merged_df['Year_Of_Publication'] = merged_df['Year_Of_Publication'].astype('int64')\n",
    "merged_df['Year_Of_Publication'].dtype "
   ]
  },
  {
   "cell_type": "code",
   "execution_count": 64,
   "id": "6ecbdd8e",
   "metadata": {},
   "outputs": [],
   "source": [
    "merged_df.to_csv('Cleanded_data.csv', index = False)"
   ]
  },
  {
   "cell_type": "code",
   "execution_count": 65,
   "id": "9c7432e1",
   "metadata": {},
   "outputs": [
    {
     "data": {
      "text/html": [
       "<div>\n",
       "<style scoped>\n",
       "    .dataframe tbody tr th:only-of-type {\n",
       "        vertical-align: middle;\n",
       "    }\n",
       "\n",
       "    .dataframe tbody tr th {\n",
       "        vertical-align: top;\n",
       "    }\n",
       "\n",
       "    .dataframe thead th {\n",
       "        text-align: right;\n",
       "    }\n",
       "</style>\n",
       "<table border=\"1\" class=\"dataframe\">\n",
       "  <thead>\n",
       "    <tr style=\"text-align: right;\">\n",
       "      <th></th>\n",
       "      <th>User_ID</th>\n",
       "      <th>Age</th>\n",
       "      <th>ISBN</th>\n",
       "      <th>Book_Rating</th>\n",
       "      <th>Book_Title</th>\n",
       "      <th>Book_Author</th>\n",
       "      <th>Year_Of_Publication</th>\n",
       "      <th>Publisher</th>\n",
       "      <th>Country</th>\n",
       "    </tr>\n",
       "  </thead>\n",
       "  <tbody>\n",
       "    <tr>\n",
       "      <th>0</th>\n",
       "      <td>2</td>\n",
       "      <td>18.0</td>\n",
       "      <td>0195153448</td>\n",
       "      <td>0</td>\n",
       "      <td>Classical Mythology</td>\n",
       "      <td>Mark P. O. Morford</td>\n",
       "      <td>2002</td>\n",
       "      <td>Oxford University Press</td>\n",
       "      <td>usa</td>\n",
       "    </tr>\n",
       "    <tr>\n",
       "      <th>1</th>\n",
       "      <td>8</td>\n",
       "      <td>NaN</td>\n",
       "      <td>0002005018</td>\n",
       "      <td>5</td>\n",
       "      <td>Clara Callan</td>\n",
       "      <td>Richard Bruce Wright</td>\n",
       "      <td>2001</td>\n",
       "      <td>HarperFlamingo Canada</td>\n",
       "      <td>canada</td>\n",
       "    </tr>\n",
       "    <tr>\n",
       "      <th>2</th>\n",
       "      <td>11400</td>\n",
       "      <td>49.0</td>\n",
       "      <td>0002005018</td>\n",
       "      <td>0</td>\n",
       "      <td>Clara Callan</td>\n",
       "      <td>Richard Bruce Wright</td>\n",
       "      <td>2001</td>\n",
       "      <td>HarperFlamingo Canada</td>\n",
       "      <td>canada</td>\n",
       "    </tr>\n",
       "    <tr>\n",
       "      <th>3</th>\n",
       "      <td>11676</td>\n",
       "      <td>NaN</td>\n",
       "      <td>0002005018</td>\n",
       "      <td>8</td>\n",
       "      <td>Clara Callan</td>\n",
       "      <td>Richard Bruce Wright</td>\n",
       "      <td>2001</td>\n",
       "      <td>HarperFlamingo Canada</td>\n",
       "      <td>other</td>\n",
       "    </tr>\n",
       "    <tr>\n",
       "      <th>4</th>\n",
       "      <td>41385</td>\n",
       "      <td>NaN</td>\n",
       "      <td>0002005018</td>\n",
       "      <td>0</td>\n",
       "      <td>Clara Callan</td>\n",
       "      <td>Richard Bruce Wright</td>\n",
       "      <td>2001</td>\n",
       "      <td>HarperFlamingo Canada</td>\n",
       "      <td>canada</td>\n",
       "    </tr>\n",
       "    <tr>\n",
       "      <th>5</th>\n",
       "      <td>67544</td>\n",
       "      <td>30.0</td>\n",
       "      <td>0002005018</td>\n",
       "      <td>8</td>\n",
       "      <td>Clara Callan</td>\n",
       "      <td>Richard Bruce Wright</td>\n",
       "      <td>2001</td>\n",
       "      <td>HarperFlamingo Canada</td>\n",
       "      <td>canada</td>\n",
       "    </tr>\n",
       "    <tr>\n",
       "      <th>6</th>\n",
       "      <td>85526</td>\n",
       "      <td>36.0</td>\n",
       "      <td>0002005018</td>\n",
       "      <td>0</td>\n",
       "      <td>Clara Callan</td>\n",
       "      <td>Richard Bruce Wright</td>\n",
       "      <td>2001</td>\n",
       "      <td>HarperFlamingo Canada</td>\n",
       "      <td>canada</td>\n",
       "    </tr>\n",
       "    <tr>\n",
       "      <th>7</th>\n",
       "      <td>96054</td>\n",
       "      <td>29.0</td>\n",
       "      <td>0002005018</td>\n",
       "      <td>0</td>\n",
       "      <td>Clara Callan</td>\n",
       "      <td>Richard Bruce Wright</td>\n",
       "      <td>2001</td>\n",
       "      <td>HarperFlamingo Canada</td>\n",
       "      <td>canada</td>\n",
       "    </tr>\n",
       "    <tr>\n",
       "      <th>8</th>\n",
       "      <td>116866</td>\n",
       "      <td>NaN</td>\n",
       "      <td>0002005018</td>\n",
       "      <td>9</td>\n",
       "      <td>Clara Callan</td>\n",
       "      <td>Richard Bruce Wright</td>\n",
       "      <td>2001</td>\n",
       "      <td>HarperFlamingo Canada</td>\n",
       "      <td>other</td>\n",
       "    </tr>\n",
       "    <tr>\n",
       "      <th>9</th>\n",
       "      <td>123629</td>\n",
       "      <td>NaN</td>\n",
       "      <td>0002005018</td>\n",
       "      <td>9</td>\n",
       "      <td>Clara Callan</td>\n",
       "      <td>Richard Bruce Wright</td>\n",
       "      <td>2001</td>\n",
       "      <td>HarperFlamingo Canada</td>\n",
       "      <td>canada</td>\n",
       "    </tr>\n",
       "  </tbody>\n",
       "</table>\n",
       "</div>"
      ],
      "text/plain": [
       "   User_ID   Age        ISBN  Book_Rating           Book_Title  \\\n",
       "0        2  18.0  0195153448            0  Classical Mythology   \n",
       "1        8   NaN  0002005018            5         Clara Callan   \n",
       "2    11400  49.0  0002005018            0         Clara Callan   \n",
       "3    11676   NaN  0002005018            8         Clara Callan   \n",
       "4    41385   NaN  0002005018            0         Clara Callan   \n",
       "5    67544  30.0  0002005018            8         Clara Callan   \n",
       "6    85526  36.0  0002005018            0         Clara Callan   \n",
       "7    96054  29.0  0002005018            0         Clara Callan   \n",
       "8   116866   NaN  0002005018            9         Clara Callan   \n",
       "9   123629   NaN  0002005018            9         Clara Callan   \n",
       "\n",
       "            Book_Author  Year_Of_Publication                Publisher  Country  \n",
       "0    Mark P. O. Morford                 2002  Oxford University Press      usa  \n",
       "1  Richard Bruce Wright                 2001    HarperFlamingo Canada   canada  \n",
       "2  Richard Bruce Wright                 2001    HarperFlamingo Canada   canada  \n",
       "3  Richard Bruce Wright                 2001    HarperFlamingo Canada    other  \n",
       "4  Richard Bruce Wright                 2001    HarperFlamingo Canada   canada  \n",
       "5  Richard Bruce Wright                 2001    HarperFlamingo Canada   canada  \n",
       "6  Richard Bruce Wright                 2001    HarperFlamingo Canada   canada  \n",
       "7  Richard Bruce Wright                 2001    HarperFlamingo Canada   canada  \n",
       "8  Richard Bruce Wright                 2001    HarperFlamingo Canada    other  \n",
       "9  Richard Bruce Wright                 2001    HarperFlamingo Canada   canada  "
      ]
     },
     "execution_count": 65,
     "metadata": {},
     "output_type": "execute_result"
    }
   ],
   "source": [
    "merged_df.head(10)"
   ]
  },
  {
   "cell_type": "code",
   "execution_count": null,
   "id": "ea0479a1",
   "metadata": {},
   "outputs": [],
   "source": []
  },
  {
   "cell_type": "markdown",
   "id": "7f88ac5a",
   "metadata": {},
   "source": [
    "## Exploratory Data Analysis"
   ]
  },
  {
   "cell_type": "code",
   "execution_count": 1,
   "id": "664ca142",
   "metadata": {},
   "outputs": [],
   "source": [
    "import pandas as pd\n",
    "import numpy as np\n",
    "import seaborn as sns\n",
    "import matplotlib.pyplot as plt"
   ]
  },
  {
   "cell_type": "code",
   "execution_count": 2,
   "id": "bd8702ee",
   "metadata": {},
   "outputs": [
    {
     "data": {
      "text/html": [
       "<div>\n",
       "<style scoped>\n",
       "    .dataframe tbody tr th:only-of-type {\n",
       "        vertical-align: middle;\n",
       "    }\n",
       "\n",
       "    .dataframe tbody tr th {\n",
       "        vertical-align: top;\n",
       "    }\n",
       "\n",
       "    .dataframe thead th {\n",
       "        text-align: right;\n",
       "    }\n",
       "</style>\n",
       "<table border=\"1\" class=\"dataframe\">\n",
       "  <thead>\n",
       "    <tr style=\"text-align: right;\">\n",
       "      <th></th>\n",
       "      <th>User_ID</th>\n",
       "      <th>Age</th>\n",
       "      <th>ISBN</th>\n",
       "      <th>Book_Rating</th>\n",
       "      <th>Book_Title</th>\n",
       "      <th>Book_Author</th>\n",
       "      <th>Year_Of_Publication</th>\n",
       "      <th>Publisher</th>\n",
       "      <th>Country</th>\n",
       "    </tr>\n",
       "  </thead>\n",
       "  <tbody>\n",
       "    <tr>\n",
       "      <th>0</th>\n",
       "      <td>2</td>\n",
       "      <td>18.0</td>\n",
       "      <td>0195153448</td>\n",
       "      <td>0</td>\n",
       "      <td>Classical Mythology</td>\n",
       "      <td>Mark P. O. Morford</td>\n",
       "      <td>2002</td>\n",
       "      <td>Oxford University Press</td>\n",
       "      <td>usa</td>\n",
       "    </tr>\n",
       "    <tr>\n",
       "      <th>1</th>\n",
       "      <td>8</td>\n",
       "      <td>NaN</td>\n",
       "      <td>0002005018</td>\n",
       "      <td>5</td>\n",
       "      <td>Clara Callan</td>\n",
       "      <td>Richard Bruce Wright</td>\n",
       "      <td>2001</td>\n",
       "      <td>HarperFlamingo Canada</td>\n",
       "      <td>canada</td>\n",
       "    </tr>\n",
       "    <tr>\n",
       "      <th>2</th>\n",
       "      <td>11400</td>\n",
       "      <td>49.0</td>\n",
       "      <td>0002005018</td>\n",
       "      <td>0</td>\n",
       "      <td>Clara Callan</td>\n",
       "      <td>Richard Bruce Wright</td>\n",
       "      <td>2001</td>\n",
       "      <td>HarperFlamingo Canada</td>\n",
       "      <td>canada</td>\n",
       "    </tr>\n",
       "    <tr>\n",
       "      <th>3</th>\n",
       "      <td>11676</td>\n",
       "      <td>NaN</td>\n",
       "      <td>0002005018</td>\n",
       "      <td>8</td>\n",
       "      <td>Clara Callan</td>\n",
       "      <td>Richard Bruce Wright</td>\n",
       "      <td>2001</td>\n",
       "      <td>HarperFlamingo Canada</td>\n",
       "      <td>other</td>\n",
       "    </tr>\n",
       "    <tr>\n",
       "      <th>4</th>\n",
       "      <td>41385</td>\n",
       "      <td>NaN</td>\n",
       "      <td>0002005018</td>\n",
       "      <td>0</td>\n",
       "      <td>Clara Callan</td>\n",
       "      <td>Richard Bruce Wright</td>\n",
       "      <td>2001</td>\n",
       "      <td>HarperFlamingo Canada</td>\n",
       "      <td>canada</td>\n",
       "    </tr>\n",
       "  </tbody>\n",
       "</table>\n",
       "</div>"
      ],
      "text/plain": [
       "   User_ID   Age        ISBN  Book_Rating           Book_Title  \\\n",
       "0        2  18.0  0195153448            0  Classical Mythology   \n",
       "1        8   NaN  0002005018            5         Clara Callan   \n",
       "2    11400  49.0  0002005018            0         Clara Callan   \n",
       "3    11676   NaN  0002005018            8         Clara Callan   \n",
       "4    41385   NaN  0002005018            0         Clara Callan   \n",
       "\n",
       "            Book_Author  Year_Of_Publication                Publisher  Country  \n",
       "0    Mark P. O. Morford                 2002  Oxford University Press      usa  \n",
       "1  Richard Bruce Wright                 2001    HarperFlamingo Canada   canada  \n",
       "2  Richard Bruce Wright                 2001    HarperFlamingo Canada   canada  \n",
       "3  Richard Bruce Wright                 2001    HarperFlamingo Canada    other  \n",
       "4  Richard Bruce Wright                 2001    HarperFlamingo Canada   canada  "
      ]
     },
     "execution_count": 2,
     "metadata": {},
     "output_type": "execute_result"
    }
   ],
   "source": [
    "merged_df = pd.read_csv(r\"C:\\Users\\Aayush\\Documents\\SQL Server Management Studio\\31 Day of Data Analytic Project\\Day 27 Book Recommendation System\\clean_data.csv\")\n",
    "merged_df.head()"
   ]
  },
  {
   "cell_type": "code",
   "execution_count": 3,
   "id": "9c9ae3e7",
   "metadata": {},
   "outputs": [
    {
     "data": {
      "text/plain": [
       "<Axes: >"
      ]
     },
     "execution_count": 3,
     "metadata": {},
     "output_type": "execute_result"
    },
    {
     "data": {
      "image/png": "[encoded data removed]",
      "text/plain": [
       "<Figure size 640x480 with 1 Axes>"
      ]
     },
     "metadata": {},
     "output_type": "display_data"
    }
   ],
   "source": [
    "# Box plot for age\n",
    "sns.boxplot(merged_df['Age'])"
   ]
  },
  {
   "cell_type": "code",
   "execution_count": 5,
   "id": "495dd651",
   "metadata": {},
   "outputs": [
    {
     "name": "stdout",
     "output_type": "stream",
     "text": [
      "282467\n"
     ]
    }
   ],
   "source": [
    "# Outplier data became Nan\n",
    "\n",
    "merged_df.loc[(merged_df.Age > 100) | (merged_df.Age < 5), 'Age'] = np.nan\n",
    "\n",
    "nulls = sum(merged_df['Age'].isnull())\n",
    "print(nulls)"
   ]
  },
  {
   "cell_type": "code",
   "execution_count": 6,
   "id": "9127c270",
   "metadata": {},
   "outputs": [],
   "source": [
    "# Imputitn null values\n",
    "\n",
    "median = merged_df['Age'].median() # finding the median of Age column\n",
    "std = merged_df['Age'].std()\n",
    "\n",
    "# filling invalid and missing ages with random normal distribution numbers\n",
    "\n",
    "random_age = np.random.randint(median - std, median + std, size = nulls)\n",
    "age = merged_df['Age'].copy()\n",
    "age[pd.isnull(age)] = random_age\n",
    "merged_df['Age'] = age\n",
    "merged_df['Age'] = merged_df['Age'].astype(int)"
   ]
  },
  {
   "cell_type": "code",
   "execution_count": 7,
   "id": "3aa2ccb6",
   "metadata": {},
   "outputs": [
    {
     "data": {
      "text/plain": [
       "User_ID                0\n",
       "Age                    0\n",
       "ISBN                   0\n",
       "Book_Rating            0\n",
       "Book_Title             0\n",
       "Book_Author            2\n",
       "Year_Of_Publication    0\n",
       "Publisher              2\n",
       "Country                0\n",
       "dtype: int64"
      ]
     },
     "execution_count": 7,
     "metadata": {},
     "output_type": "execute_result"
    }
   ],
   "source": [
    "merged_df.isnull().sum()"
   ]
  },
  {
   "cell_type": "code",
   "execution_count": 8,
   "id": "6f1de786",
   "metadata": {},
   "outputs": [
    {
     "data": {
      "text/plain": [
       "(1031132, 9)"
      ]
     },
     "execution_count": 8,
     "metadata": {},
     "output_type": "execute_result"
    }
   ],
   "source": [
    "merged_df.shape"
   ]
  },
  {
   "cell_type": "code",
   "execution_count": 10,
   "id": "4ca46b62",
   "metadata": {},
   "outputs": [
    {
     "data": {
      "image/png": "[encoded data removed]",
      "text/plain": [
       "<Figure size 640x480 with 1 Axes>"
      ]
     },
     "metadata": {},
     "output_type": "display_data"
    }
   ],
   "source": [
    "# Distribution of age after removing outliers and fixing missing values\n",
    "\n",
    "ax = merged_df.Age.value_counts().sort_index()\n",
    "plt.bar(ax.index, ax.values)\n",
    "plt.xlabel('Age')\n",
    "plt.ylabel('Counts of Users')\n",
    "plt.xlim(xmin = 0)\n",
    "plt.show()"
   ]
  },
  {
   "cell_type": "code",
   "execution_count": 11,
   "id": "2839b5fa",
   "metadata": {},
   "outputs": [
    {
     "name": "stderr",
     "output_type": "stream",
     "text": [
      "C:\\Users\\Aayush\\anaconda3\\Lib\\site-packages\\seaborn\\axisgrid.py:118: UserWarning: The figure layout has changed to tight\n",
      "  self._figure.tight_layout(*args, **kwargs)\n"
     ]
    },
    {
     "data": {
      "text/plain": [
       "<seaborn.axisgrid.FacetGrid at 0x27996976cd0>"
      ]
     },
     "execution_count": 11,
     "metadata": {},
     "output_type": "execute_result"
    },
    {
     "data": {
      "image/png": "[encoded data removed]",
      "text/plain": [
       "<Figure size 500x500 with 1 Axes>"
      ]
     },
     "metadata": {},
     "output_type": "display_data"
    }
   ],
   "source": [
    "# showing the distribution of Year of Publication\n",
    "\n",
    "sns.displot(merged_df[merged_df['Year_Of_Publication']> 1800]['Year_Of_Publication'],color = 'green', bins = 45)"
   ]
  },
  {
   "cell_type": "code",
   "execution_count": 16,
   "id": "6d6ae94d",
   "metadata": {},
   "outputs": [
    {
     "data": {
      "text/plain": [
       "Text(0.5, 1.0, 'Author with Most Number of Books')"
      ]
     },
     "execution_count": 16,
     "metadata": {},
     "output_type": "execute_result"
    },
    {
     "data": {
      "image/png": "[encoded data removed]",
      "text/plain": [
       "<Figure size 640x480 with 1 Axes>"
      ]
     },
     "metadata": {},
     "output_type": "display_data"
    }
   ],
   "source": [
    "# plotting the count of top 10 books using countplot\n",
    "\n",
    "sns.countplot(y='Book-Author', data = books, order = pd.value_counts(books['Book-Author']).iloc[:10].index)\n",
    "plt.title(\"Author with Most Number of Books\", fontweight = 'bold')"
   ]
  },
  {
   "cell_type": "code",
   "execution_count": 19,
   "id": "de8b33b2",
   "metadata": {},
   "outputs": [
    {
     "data": {
      "text/plain": [
       "Text(0.5, 1.0, 'Top 10 Publishers')"
      ]
     },
     "execution_count": 19,
     "metadata": {},
     "output_type": "execute_result"
    },
    {
     "data": {
      "image/png": "[encoded data removed]",
      "text/plain": [
       "<Figure size 640x480 with 1 Axes>"
      ]
     },
     "metadata": {},
     "output_type": "display_data"
    }
   ],
   "source": [
    "# Counting the top publisher using countplot \n",
    "sns.countplot(y='Publisher', data = books, order = pd.value_counts(books['Publisher']).iloc[:10].index,palette ='rainbow')\n",
    "plt.title(\"Top 10 Publishers\", fontweight = 'bold')"
   ]
  },
  {
   "cell_type": "code",
   "execution_count": 22,
   "id": "3adce521",
   "metadata": {},
   "outputs": [
    {
     "data": {
      "text/plain": [
       "Text(0.5, 1.0, 'Top 5 Countries')"
      ]
     },
     "execution_count": 22,
     "metadata": {},
     "output_type": "execute_result"
    },
    {
     "data": {
      "image/png": "[encoded data removed]",
      "text/plain": [
       "<Figure size 640x480 with 1 Axes>"
      ]
     },
     "metadata": {},
     "output_type": "display_data"
    }
   ],
   "source": [
    "# Pie Graph of top five countries\n",
    "\n",
    "palette_color = sns.color_palette('muted')\n",
    "explode = (0.1,0,0,0,0)\n",
    "merged_df.Country.value_counts().iloc[:5].plot(kind = 'pie', colors = palette_color, autopct = '%.0f%%', explode = explode, shadow = True)\n",
    "plt.title('Top 5 Countries', fontweight = 'bold')"
   ]
  },
  {
   "cell_type": "code",
   "execution_count": 23,
   "id": "f23d4c9b",
   "metadata": {},
   "outputs": [
    {
     "name": "stderr",
     "output_type": "stream",
     "text": [
      "C:\\Users\\Aayush\\anaconda3\\Lib\\site-packages\\seaborn\\axisgrid.py:118: UserWarning: Tight layout not applied. The left and right margins cannot be made large enough to accommodate all axes decorations.\n",
      "  self._figure.tight_layout(*args, **kwargs)\n",
      "C:\\Users\\Aayush\\anaconda3\\Lib\\site-packages\\seaborn\\axisgrid.py:118: UserWarning: The figure layout has changed to tight\n",
      "  self._figure.tight_layout(*args, **kwargs)\n"
     ]
    },
    {
     "data": {
      "text/plain": [
       "Text(0.5, 1.0, 'Most Famous Books')"
      ]
     },
     "execution_count": 23,
     "metadata": {},
     "output_type": "execute_result"
    },
    {
     "data": {
      "image/png": "[encoded data removed]",
      "text/plain": [
       "<Figure size 657.125x500 with 1 Axes>"
      ]
     },
     "metadata": {},
     "output_type": "display_data"
    }
   ],
   "source": [
    "# Average Book rating with respect ot top 10 books\n",
    "\n",
    "book_rating = merged_df.groupby(['Book_Title','Book_Author'])['Book_Rating'].agg(['count','mean']).sort_values(by='mean', ascending = False).reset_index()\n",
    "sns.catplot(x='mean', y='Book_Title', data = book_rating[book_rating['count']>500][:10], kind = 'bar', palette = 'Paired', hue='Book_Author')\n",
    "plt.xlabel('Average Ratings')\n",
    "plt.ylabel('Books')\n",
    "plt.title('Most Famous Books', fontweight = 'bold')"
   ]
  },
  {
   "cell_type": "code",
   "execution_count": 24,
   "id": "e0558d7d",
   "metadata": {},
   "outputs": [
    {
     "data": {
      "image/png": "[encoded data removed]",
      "text/plain": [
       "<Figure size 640x480 with 1 Axes>"
      ]
     },
     "metadata": {},
     "output_type": "display_data"
    }
   ],
   "source": [
    "# barplot of book_rating with respect to its index\n",
    "\n",
    "sns.barplot(x = merged_df['Book_Rating'].value_counts().index, y = merged_df['Book_Rating'].value_counts().values, palette = 'mako').set(title = 'Rating Distribution')\n",
    "plt.xlabel(\"Rating\")\n",
    "plt.ylabel('Number of books')\n",
    "plt.show()"
   ]
  },
  {
   "cell_type": "code",
   "execution_count": null,
   "id": "17e9e80d",
   "metadata": {},
   "outputs": [],
   "source": []
  },
  {
   "cell_type": "markdown",
   "id": "101df966",
   "metadata": {},
   "source": [
    "# Recommendation System\n",
    "\n",
    "\n",
    "### Populatiry Based Recommendation System"
   ]
  },
  {
   "cell_type": "code",
   "execution_count": 26,
   "id": "f7a06569",
   "metadata": {},
   "outputs": [
    {
     "data": {
      "text/html": [
       "<div>\n",
       "<style scoped>\n",
       "    .dataframe tbody tr th:only-of-type {\n",
       "        vertical-align: middle;\n",
       "    }\n",
       "\n",
       "    .dataframe tbody tr th {\n",
       "        vertical-align: top;\n",
       "    }\n",
       "\n",
       "    .dataframe thead th {\n",
       "        text-align: right;\n",
       "    }\n",
       "</style>\n",
       "<table border=\"1\" class=\"dataframe\">\n",
       "  <thead>\n",
       "    <tr style=\"text-align: right;\">\n",
       "      <th></th>\n",
       "      <th>Book_Title</th>\n",
       "      <th>Avg_Rating</th>\n",
       "      <th>No_of_Rating</th>\n",
       "    </tr>\n",
       "  </thead>\n",
       "  <tbody>\n",
       "    <tr>\n",
       "      <th>0</th>\n",
       "      <td>Classical Mythology</td>\n",
       "      <td>3.500000</td>\n",
       "      <td>2</td>\n",
       "    </tr>\n",
       "    <tr>\n",
       "      <th>1</th>\n",
       "      <td>Clara Callan</td>\n",
       "      <td>4.928571</td>\n",
       "      <td>14</td>\n",
       "    </tr>\n",
       "    <tr>\n",
       "      <th>2</th>\n",
       "      <td>Clara Callan</td>\n",
       "      <td>4.928571</td>\n",
       "      <td>14</td>\n",
       "    </tr>\n",
       "    <tr>\n",
       "      <th>3</th>\n",
       "      <td>Clara Callan</td>\n",
       "      <td>4.928571</td>\n",
       "      <td>14</td>\n",
       "    </tr>\n",
       "    <tr>\n",
       "      <th>4</th>\n",
       "      <td>Clara Callan</td>\n",
       "      <td>4.928571</td>\n",
       "      <td>14</td>\n",
       "    </tr>\n",
       "    <tr>\n",
       "      <th>5</th>\n",
       "      <td>Clara Callan</td>\n",
       "      <td>4.928571</td>\n",
       "      <td>14</td>\n",
       "    </tr>\n",
       "    <tr>\n",
       "      <th>6</th>\n",
       "      <td>Clara Callan</td>\n",
       "      <td>4.928571</td>\n",
       "      <td>14</td>\n",
       "    </tr>\n",
       "    <tr>\n",
       "      <th>7</th>\n",
       "      <td>Clara Callan</td>\n",
       "      <td>4.928571</td>\n",
       "      <td>14</td>\n",
       "    </tr>\n",
       "    <tr>\n",
       "      <th>8</th>\n",
       "      <td>Clara Callan</td>\n",
       "      <td>4.928571</td>\n",
       "      <td>14</td>\n",
       "    </tr>\n",
       "    <tr>\n",
       "      <th>9</th>\n",
       "      <td>Clara Callan</td>\n",
       "      <td>4.928571</td>\n",
       "      <td>14</td>\n",
       "    </tr>\n",
       "  </tbody>\n",
       "</table>\n",
       "</div>"
      ],
      "text/plain": [
       "            Book_Title  Avg_Rating  No_of_Rating\n",
       "0  Classical Mythology    3.500000             2\n",
       "1         Clara Callan    4.928571            14\n",
       "2         Clara Callan    4.928571            14\n",
       "3         Clara Callan    4.928571            14\n",
       "4         Clara Callan    4.928571            14\n",
       "5         Clara Callan    4.928571            14\n",
       "6         Clara Callan    4.928571            14\n",
       "7         Clara Callan    4.928571            14\n",
       "8         Clara Callan    4.928571            14\n",
       "9         Clara Callan    4.928571            14"
      ]
     },
     "execution_count": 26,
     "metadata": {},
     "output_type": "execute_result"
    }
   ],
   "source": [
    "# Create columb average rating using groupby on book title \n",
    "\n",
    "merged_df['Avg_Rating'] = merged_df.groupby('Book_Title')['Book_Rating'].transform('mean')\n",
    "\n",
    "# Create column number of rating\n",
    "merged_df['No_of_Rating'] = merged_df.groupby('Book_Title')['Book_Rating'].transform('count')\n",
    "\n",
    "# Create new dataframe popular_df\n",
    "\n",
    "popular_df = merged_df[['Book_Title','Avg_Rating','No_of_Rating']]\n",
    "\n",
    "popular_df.head(10)"
   ]
  },
  {
   "cell_type": "code",
   "execution_count": 28,
   "id": "1fb49047",
   "metadata": {},
   "outputs": [
    {
     "name": "stderr",
     "output_type": "stream",
     "text": [
      "C:\\Users\\Aayush\\AppData\\Local\\Temp\\ipykernel_7860\\1852918294.py:3: SettingWithCopyWarning: \n",
      "A value is trying to be set on a copy of a slice from a DataFrame\n",
      "\n",
      "See the caveats in the documentation: https://pandas.pydata.org/pandas-docs/stable/user_guide/indexing.html#returning-a-view-versus-a-copy\n",
      "  popular_df.drop_duplicates('Book_Title', inplace = True)\n"
     ]
    },
    {
     "data": {
      "text/html": [
       "<div>\n",
       "<style scoped>\n",
       "    .dataframe tbody tr th:only-of-type {\n",
       "        vertical-align: middle;\n",
       "    }\n",
       "\n",
       "    .dataframe tbody tr th {\n",
       "        vertical-align: top;\n",
       "    }\n",
       "\n",
       "    .dataframe thead th {\n",
       "        text-align: right;\n",
       "    }\n",
       "</style>\n",
       "<table border=\"1\" class=\"dataframe\">\n",
       "  <thead>\n",
       "    <tr style=\"text-align: right;\">\n",
       "      <th></th>\n",
       "      <th>Book_Title</th>\n",
       "      <th>Avg_Rating</th>\n",
       "      <th>No_of_Rating</th>\n",
       "    </tr>\n",
       "  </thead>\n",
       "  <tbody>\n",
       "    <tr>\n",
       "      <th>0</th>\n",
       "      <td>Classical Mythology</td>\n",
       "      <td>3.500000</td>\n",
       "      <td>2</td>\n",
       "    </tr>\n",
       "    <tr>\n",
       "      <th>1</th>\n",
       "      <td>Clara Callan</td>\n",
       "      <td>4.928571</td>\n",
       "      <td>14</td>\n",
       "    </tr>\n",
       "    <tr>\n",
       "      <th>15</th>\n",
       "      <td>Decision in Normandy</td>\n",
       "      <td>5.000000</td>\n",
       "      <td>3</td>\n",
       "    </tr>\n",
       "    <tr>\n",
       "      <th>18</th>\n",
       "      <td>Flu: The Story of the Great Influenza Pandemic...</td>\n",
       "      <td>4.272727</td>\n",
       "      <td>11</td>\n",
       "    </tr>\n",
       "    <tr>\n",
       "      <th>29</th>\n",
       "      <td>The Mummies of Urumchi</td>\n",
       "      <td>0.000000</td>\n",
       "      <td>1</td>\n",
       "    </tr>\n",
       "    <tr>\n",
       "      <th>30</th>\n",
       "      <td>The Kitchen God's Wife</td>\n",
       "      <td>2.996785</td>\n",
       "      <td>311</td>\n",
       "    </tr>\n",
       "    <tr>\n",
       "      <th>63</th>\n",
       "      <td>What If?: The World's Foremost Military Histor...</td>\n",
       "      <td>2.333333</td>\n",
       "      <td>6</td>\n",
       "    </tr>\n",
       "    <tr>\n",
       "      <th>68</th>\n",
       "      <td>PLEADING GUILTY</td>\n",
       "      <td>2.666667</td>\n",
       "      <td>3</td>\n",
       "    </tr>\n",
       "    <tr>\n",
       "      <th>71</th>\n",
       "      <td>Under the Black Flag: The Romance and the Real...</td>\n",
       "      <td>0.000000</td>\n",
       "      <td>1</td>\n",
       "    </tr>\n",
       "    <tr>\n",
       "      <th>72</th>\n",
       "      <td>Where You'll Find Me: And Other Stories</td>\n",
       "      <td>2.500000</td>\n",
       "      <td>2</td>\n",
       "    </tr>\n",
       "  </tbody>\n",
       "</table>\n",
       "</div>"
      ],
      "text/plain": [
       "                                           Book_Title  Avg_Rating  \\\n",
       "0                                 Classical Mythology    3.500000   \n",
       "1                                        Clara Callan    4.928571   \n",
       "15                               Decision in Normandy    5.000000   \n",
       "18  Flu: The Story of the Great Influenza Pandemic...    4.272727   \n",
       "29                             The Mummies of Urumchi    0.000000   \n",
       "30                             The Kitchen God's Wife    2.996785   \n",
       "63  What If?: The World's Foremost Military Histor...    2.333333   \n",
       "68                                    PLEADING GUILTY    2.666667   \n",
       "71  Under the Black Flag: The Romance and the Real...    0.000000   \n",
       "72            Where You'll Find Me: And Other Stories    2.500000   \n",
       "\n",
       "    No_of_Rating  \n",
       "0              2  \n",
       "1             14  \n",
       "15             3  \n",
       "18            11  \n",
       "29             1  \n",
       "30           311  \n",
       "63             6  \n",
       "68             3  \n",
       "71             1  \n",
       "72             2  "
      ]
     },
     "execution_count": 28,
     "metadata": {},
     "output_type": "execute_result"
    }
   ],
   "source": [
    "# Drop duplicated books\n",
    "\n",
    "popular_df.drop_duplicates('Book_Title', inplace = True)\n",
    "\n",
    "popular_df.head(10)"
   ]
  },
  {
   "cell_type": "code",
   "execution_count": 30,
   "id": "cec8a197",
   "metadata": {},
   "outputs": [
    {
     "data": {
      "text/html": [
       "<div>\n",
       "<style scoped>\n",
       "    .dataframe tbody tr th:only-of-type {\n",
       "        vertical-align: middle;\n",
       "    }\n",
       "\n",
       "    .dataframe tbody tr th {\n",
       "        vertical-align: top;\n",
       "    }\n",
       "\n",
       "    .dataframe thead th {\n",
       "        text-align: right;\n",
       "    }\n",
       "</style>\n",
       "<table border=\"1\" class=\"dataframe\">\n",
       "  <thead>\n",
       "    <tr style=\"text-align: right;\">\n",
       "      <th></th>\n",
       "      <th>Book_Title</th>\n",
       "      <th>Avg_Rating</th>\n",
       "      <th>No_of_Rating</th>\n",
       "    </tr>\n",
       "  </thead>\n",
       "  <tbody>\n",
       "    <tr>\n",
       "      <th>769</th>\n",
       "      <td>Wild Animus</td>\n",
       "      <td>1.019584</td>\n",
       "      <td>2502</td>\n",
       "    </tr>\n",
       "    <tr>\n",
       "      <th>14986</th>\n",
       "      <td>The Lovely Bones: A Novel</td>\n",
       "      <td>4.468726</td>\n",
       "      <td>1295</td>\n",
       "    </tr>\n",
       "    <tr>\n",
       "      <th>65537</th>\n",
       "      <td>The Da Vinci Code</td>\n",
       "      <td>4.642539</td>\n",
       "      <td>898</td>\n",
       "    </tr>\n",
       "    <tr>\n",
       "      <th>20789</th>\n",
       "      <td>A Painted House</td>\n",
       "      <td>3.231504</td>\n",
       "      <td>838</td>\n",
       "    </tr>\n",
       "    <tr>\n",
       "      <th>49450</th>\n",
       "      <td>The Nanny Diaries: A Novel</td>\n",
       "      <td>3.530193</td>\n",
       "      <td>828</td>\n",
       "    </tr>\n",
       "    <tr>\n",
       "      <th>...</th>\n",
       "      <td>...</td>\n",
       "      <td>...</td>\n",
       "      <td>...</td>\n",
       "    </tr>\n",
       "    <tr>\n",
       "      <th>866004</th>\n",
       "      <td>Hold That Thought</td>\n",
       "      <td>0.000000</td>\n",
       "      <td>1</td>\n",
       "    </tr>\n",
       "    <tr>\n",
       "      <th>865998</th>\n",
       "      <td>Cliff Sheats' Lean Bodies Cookbook</td>\n",
       "      <td>0.000000</td>\n",
       "      <td>1</td>\n",
       "    </tr>\n",
       "    <tr>\n",
       "      <th>865992</th>\n",
       "      <td>Blue Lightning</td>\n",
       "      <td>5.000000</td>\n",
       "      <td>1</td>\n",
       "    </tr>\n",
       "    <tr>\n",
       "      <th>865987</th>\n",
       "      <td>You Who Know</td>\n",
       "      <td>0.000000</td>\n",
       "      <td>1</td>\n",
       "    </tr>\n",
       "    <tr>\n",
       "      <th>1031131</th>\n",
       "      <td>Dallas Street Map Guide and Directory, 2000 Ed...</td>\n",
       "      <td>10.000000</td>\n",
       "      <td>1</td>\n",
       "    </tr>\n",
       "  </tbody>\n",
       "</table>\n",
       "<p>241068 rows × 3 columns</p>\n",
       "</div>"
      ],
      "text/plain": [
       "                                                Book_Title  Avg_Rating  \\\n",
       "769                                            Wild Animus    1.019584   \n",
       "14986                            The Lovely Bones: A Novel    4.468726   \n",
       "65537                                    The Da Vinci Code    4.642539   \n",
       "20789                                      A Painted House    3.231504   \n",
       "49450                           The Nanny Diaries: A Novel    3.530193   \n",
       "...                                                    ...         ...   \n",
       "866004                                   Hold That Thought    0.000000   \n",
       "865998                  Cliff Sheats' Lean Bodies Cookbook    0.000000   \n",
       "865992                                      Blue Lightning    5.000000   \n",
       "865987                                        You Who Know    0.000000   \n",
       "1031131  Dallas Street Map Guide and Directory, 2000 Ed...   10.000000   \n",
       "\n",
       "         No_of_Rating  \n",
       "769              2502  \n",
       "14986            1295  \n",
       "65537             898  \n",
       "20789             838  \n",
       "49450             828  \n",
       "...               ...  \n",
       "866004              1  \n",
       "865998              1  \n",
       "865992              1  \n",
       "865987              1  \n",
       "1031131             1  \n",
       "\n",
       "[241068 rows x 3 columns]"
      ]
     },
     "execution_count": 30,
     "metadata": {},
     "output_type": "execute_result"
    }
   ],
   "source": [
    "popular_df.sort_values(by='No_of_Rating', ascending = False)"
   ]
  },
  {
   "cell_type": "code",
   "execution_count": 36,
   "id": "4ef0dfb0",
   "metadata": {},
   "outputs": [
    {
     "data": {
      "text/html": [
       "<div>\n",
       "<style scoped>\n",
       "    .dataframe tbody tr th:only-of-type {\n",
       "        vertical-align: middle;\n",
       "    }\n",
       "\n",
       "    .dataframe tbody tr th {\n",
       "        vertical-align: top;\n",
       "    }\n",
       "\n",
       "    .dataframe thead th {\n",
       "        text-align: right;\n",
       "    }\n",
       "</style>\n",
       "<table border=\"1\" class=\"dataframe\">\n",
       "  <thead>\n",
       "    <tr style=\"text-align: right;\">\n",
       "      <th></th>\n",
       "      <th>Book_Title</th>\n",
       "      <th>Avg_Rating</th>\n",
       "      <th>No_of_Rating</th>\n",
       "    </tr>\n",
       "  </thead>\n",
       "  <tbody>\n",
       "    <tr>\n",
       "      <th>32601</th>\n",
       "      <td>Harry Potter and the Prisoner of Azkaban (Book 3)</td>\n",
       "      <td>5.852804</td>\n",
       "      <td>428</td>\n",
       "    </tr>\n",
       "    <tr>\n",
       "      <th>33024</th>\n",
       "      <td>Harry Potter and the Goblet of Fire (Book 4)</td>\n",
       "      <td>5.824289</td>\n",
       "      <td>387</td>\n",
       "    </tr>\n",
       "    <tr>\n",
       "      <th>37538</th>\n",
       "      <td>Harry Potter and the Sorcerer's Stone (Book 1)</td>\n",
       "      <td>5.737410</td>\n",
       "      <td>278</td>\n",
       "    </tr>\n",
       "    <tr>\n",
       "      <th>33218</th>\n",
       "      <td>Harry Potter and the Order of the Phoenix (Boo...</td>\n",
       "      <td>5.501441</td>\n",
       "      <td>347</td>\n",
       "    </tr>\n",
       "    <tr>\n",
       "      <th>32080</th>\n",
       "      <td>Harry Potter and the Chamber of Secrets (Book 2)</td>\n",
       "      <td>5.183453</td>\n",
       "      <td>556</td>\n",
       "    </tr>\n",
       "    <tr>\n",
       "      <th>167539</th>\n",
       "      <td>The Hobbit : The Enchanting Prelude to The Lor...</td>\n",
       "      <td>5.007117</td>\n",
       "      <td>281</td>\n",
       "    </tr>\n",
       "    <tr>\n",
       "      <th>37807</th>\n",
       "      <td>The Fellowship of the Ring (The Lord of the Ri...</td>\n",
       "      <td>4.948370</td>\n",
       "      <td>368</td>\n",
       "    </tr>\n",
       "    <tr>\n",
       "      <th>125266</th>\n",
       "      <td>Harry Potter and the Sorcerer's Stone (Harry P...</td>\n",
       "      <td>4.895652</td>\n",
       "      <td>575</td>\n",
       "    </tr>\n",
       "    <tr>\n",
       "      <th>37870</th>\n",
       "      <td>The Two Towers (The Lord of the Rings, Part 2)</td>\n",
       "      <td>4.880769</td>\n",
       "      <td>260</td>\n",
       "    </tr>\n",
       "    <tr>\n",
       "      <th>4219</th>\n",
       "      <td>To Kill a Mockingbird</td>\n",
       "      <td>4.700000</td>\n",
       "      <td>510</td>\n",
       "    </tr>\n",
       "  </tbody>\n",
       "</table>\n",
       "</div>"
      ],
      "text/plain": [
       "                                               Book_Title  Avg_Rating  \\\n",
       "32601   Harry Potter and the Prisoner of Azkaban (Book 3)    5.852804   \n",
       "33024        Harry Potter and the Goblet of Fire (Book 4)    5.824289   \n",
       "37538      Harry Potter and the Sorcerer's Stone (Book 1)    5.737410   \n",
       "33218   Harry Potter and the Order of the Phoenix (Boo...    5.501441   \n",
       "32080    Harry Potter and the Chamber of Secrets (Book 2)    5.183453   \n",
       "167539  The Hobbit : The Enchanting Prelude to The Lor...    5.007117   \n",
       "37807   The Fellowship of the Ring (The Lord of the Ri...    4.948370   \n",
       "125266  Harry Potter and the Sorcerer's Stone (Harry P...    4.895652   \n",
       "37870      The Two Towers (The Lord of the Rings, Part 2)    4.880769   \n",
       "4219                                To Kill a Mockingbird    4.700000   \n",
       "\n",
       "        No_of_Rating  \n",
       "32601            428  \n",
       "33024            387  \n",
       "37538            278  \n",
       "33218            347  \n",
       "32080            556  \n",
       "167539           281  \n",
       "37807            368  \n",
       "125266           575  \n",
       "37870            260  \n",
       "4219             510  "
      ]
     },
     "execution_count": 36,
     "metadata": {},
     "output_type": "execute_result"
    }
   ],
   "source": [
    "# Appyling a constraint of number of ratings greater than 250 to only keep the most popular books\n",
    "\n",
    "popular_df = popular_df[popular_df['No_of_Rating']>250].sort_values(by='Avg_Rating', ascending = False)\n",
    "\n",
    "popular_df.head(10)"
   ]
  },
  {
   "cell_type": "markdown",
   "id": "c5177770",
   "metadata": {},
   "source": [
    "## Collaborative Filtering\n",
    "\n",
    "Every user's rating at facevalue can't be considered because if the users is a novice reader with only an experience of reading a couple of books, his/her rating might not be much relevant for finding similarity among books. \n",
    "Therefore as a general rule of thumb let's consider only those Users who have rated atleast 80 books and only those books which have got atleast 200   ratings."
   ]
  },
  {
   "cell_type": "code",
   "execution_count": 37,
   "id": "c18d7400",
   "metadata": {},
   "outputs": [
    {
     "data": {
      "text/plain": [
       "User_ID\n",
       "254       True\n",
       "2276      True\n",
       "2766      True\n",
       "2977      True\n",
       "3363      True\n",
       "          ... \n",
       "274308    True\n",
       "275970    True\n",
       "277427    True\n",
       "277639    True\n",
       "278418    True\n",
       "Name: Book_Rating, Length: 811, dtype: bool"
      ]
     },
     "execution_count": 37,
     "metadata": {},
     "output_type": "execute_result"
    }
   ],
   "source": [
    "x = merged_df.groupby('User_ID').count()['Book_Rating']>200\n",
    "\n",
    "x[x]"
   ]
  },
  {
   "cell_type": "code",
   "execution_count": 38,
   "id": "040ff183",
   "metadata": {},
   "outputs": [
    {
     "data": {
      "text/plain": [
       "0          False\n",
       "1          False\n",
       "2          False\n",
       "3           True\n",
       "4          False\n",
       "           ...  \n",
       "1031127    False\n",
       "1031128    False\n",
       "1031129    False\n",
       "1031130    False\n",
       "1031131    False\n",
       "Name: User_ID, Length: 1031132, dtype: bool"
      ]
     },
     "execution_count": 38,
     "metadata": {},
     "output_type": "execute_result"
    }
   ],
   "source": [
    "merged_df['User_ID'].isin(x[x].index)"
   ]
  },
  {
   "cell_type": "code",
   "execution_count": 39,
   "id": "157e1924",
   "metadata": {
    "scrolled": true
   },
   "outputs": [
    {
     "data": {
      "text/plain": [
       "(1031132, 11)"
      ]
     },
     "execution_count": 39,
     "metadata": {},
     "output_type": "execute_result"
    }
   ],
   "source": [
    "merged_df.shape"
   ]
  },
  {
   "cell_type": "code",
   "execution_count": 87,
   "id": "8e153145",
   "metadata": {},
   "outputs": [],
   "source": [
    "merged_df=merged_df[merged_df['Book_Rating']!=0]"
   ]
  },
  {
   "cell_type": "code",
   "execution_count": 88,
   "id": "7b97ded0",
   "metadata": {},
   "outputs": [
    {
     "data": {
      "text/plain": [
       "(383841, 11)"
      ]
     },
     "execution_count": 88,
     "metadata": {},
     "output_type": "execute_result"
    }
   ],
   "source": [
    "merged_df.shape"
   ]
  },
  {
   "cell_type": "code",
   "execution_count": 89,
   "id": "eeffc9e0",
   "metadata": {},
   "outputs": [],
   "source": [
    "# Applying constraint on user id using it's count\n",
    "x = merged_df.groupby('User_ID').count()['Book_Rating'] > 200\n",
    "\n",
    "filtered_df = merged_df[merged_df['User_ID'].isin(x[x].index)]"
   ]
  },
  {
   "cell_type": "code",
   "execution_count": 90,
   "id": "d40cd14d",
   "metadata": {},
   "outputs": [
    {
     "data": {
      "text/plain": [
       "(2783, 11)"
      ]
     },
     "execution_count": 90,
     "metadata": {},
     "output_type": "execute_result"
    }
   ],
   "source": [
    "# Applying constrain on number of rating\n",
    "\n",
    "y = merged_df.groupby('Book_Title').count()['Book_Rating'] > 80\n",
    "\n",
    "filtered_df = filtered_df[filtered_df['Book_Title'].isin(y[y].index)]\n",
    "\n",
    "filtered_df.shape"
   ]
  },
  {
   "cell_type": "code",
   "execution_count": 91,
   "id": "7be95df0",
   "metadata": {},
   "outputs": [
    {
     "data": {
      "text/html": [
       "<div>\n",
       "<style scoped>\n",
       "    .dataframe tbody tr th:only-of-type {\n",
       "        vertical-align: middle;\n",
       "    }\n",
       "\n",
       "    .dataframe tbody tr th {\n",
       "        vertical-align: top;\n",
       "    }\n",
       "\n",
       "    .dataframe thead th {\n",
       "        text-align: right;\n",
       "    }\n",
       "</style>\n",
       "<table border=\"1\" class=\"dataframe\">\n",
       "  <thead>\n",
       "    <tr style=\"text-align: right;\">\n",
       "      <th></th>\n",
       "      <th>User_ID</th>\n",
       "      <th>Age</th>\n",
       "      <th>ISBN</th>\n",
       "      <th>Book_Rating</th>\n",
       "      <th>Book_Title</th>\n",
       "      <th>Book_Author</th>\n",
       "      <th>Year_Of_Publication</th>\n",
       "      <th>Publisher</th>\n",
       "      <th>Country</th>\n",
       "      <th>Avg_Rating</th>\n",
       "      <th>No_of_Rating</th>\n",
       "    </tr>\n",
       "  </thead>\n",
       "  <tbody>\n",
       "    <tr>\n",
       "      <th>31</th>\n",
       "      <td>11676</td>\n",
       "      <td>35</td>\n",
       "      <td>0399135782</td>\n",
       "      <td>9</td>\n",
       "      <td>The Kitchen God's Wife</td>\n",
       "      <td>Amy Tan</td>\n",
       "      <td>1991</td>\n",
       "      <td>Putnam Pub Group</td>\n",
       "      <td>other</td>\n",
       "      <td>2.996785</td>\n",
       "      <td>311</td>\n",
       "    </tr>\n",
       "    <tr>\n",
       "      <th>34</th>\n",
       "      <td>46398</td>\n",
       "      <td>37</td>\n",
       "      <td>0399135782</td>\n",
       "      <td>9</td>\n",
       "      <td>The Kitchen God's Wife</td>\n",
       "      <td>Amy Tan</td>\n",
       "      <td>1991</td>\n",
       "      <td>Putnam Pub Group</td>\n",
       "      <td>usa</td>\n",
       "      <td>2.996785</td>\n",
       "      <td>311</td>\n",
       "    </tr>\n",
       "    <tr>\n",
       "      <th>54</th>\n",
       "      <td>230522</td>\n",
       "      <td>52</td>\n",
       "      <td>0399135782</td>\n",
       "      <td>7</td>\n",
       "      <td>The Kitchen God's Wife</td>\n",
       "      <td>Amy Tan</td>\n",
       "      <td>1991</td>\n",
       "      <td>Putnam Pub Group</td>\n",
       "      <td>usa</td>\n",
       "      <td>2.996785</td>\n",
       "      <td>311</td>\n",
       "    </tr>\n",
       "    <tr>\n",
       "      <th>106</th>\n",
       "      <td>7346</td>\n",
       "      <td>49</td>\n",
       "      <td>0440234743</td>\n",
       "      <td>9</td>\n",
       "      <td>The Testament</td>\n",
       "      <td>John Grisham</td>\n",
       "      <td>1999</td>\n",
       "      <td>Dell</td>\n",
       "      <td>usa</td>\n",
       "      <td>3.179903</td>\n",
       "      <td>617</td>\n",
       "    </tr>\n",
       "    <tr>\n",
       "      <th>112</th>\n",
       "      <td>11676</td>\n",
       "      <td>35</td>\n",
       "      <td>0440234743</td>\n",
       "      <td>9</td>\n",
       "      <td>The Testament</td>\n",
       "      <td>John Grisham</td>\n",
       "      <td>1999</td>\n",
       "      <td>Dell</td>\n",
       "      <td>other</td>\n",
       "      <td>3.179903</td>\n",
       "      <td>617</td>\n",
       "    </tr>\n",
       "  </tbody>\n",
       "</table>\n",
       "</div>"
      ],
      "text/plain": [
       "     User_ID  Age        ISBN  Book_Rating              Book_Title  \\\n",
       "31     11676   35  0399135782            9  The Kitchen God's Wife   \n",
       "34     46398   37  0399135782            9  The Kitchen God's Wife   \n",
       "54    230522   52  0399135782            7  The Kitchen God's Wife   \n",
       "106     7346   49  0440234743            9           The Testament   \n",
       "112    11676   35  0440234743            9           The Testament   \n",
       "\n",
       "      Book_Author  Year_Of_Publication         Publisher Country  Avg_Rating  \\\n",
       "31        Amy Tan                 1991  Putnam Pub Group   other    2.996785   \n",
       "34        Amy Tan                 1991  Putnam Pub Group     usa    2.996785   \n",
       "54        Amy Tan                 1991  Putnam Pub Group     usa    2.996785   \n",
       "106  John Grisham                 1999              Dell     usa    3.179903   \n",
       "112  John Grisham                 1999              Dell   other    3.179903   \n",
       "\n",
       "     No_of_Rating  \n",
       "31            311  \n",
       "34            311  \n",
       "54            311  \n",
       "106           617  \n",
       "112           617  "
      ]
     },
     "execution_count": 91,
     "metadata": {},
     "output_type": "execute_result"
    }
   ],
   "source": [
    "filtered_df.head()"
   ]
  },
  {
   "cell_type": "code",
   "execution_count": 92,
   "id": "da2a047a",
   "metadata": {},
   "outputs": [
    {
     "data": {
      "text/html": [
       "<div>\n",
       "<style scoped>\n",
       "    .dataframe tbody tr th:only-of-type {\n",
       "        vertical-align: middle;\n",
       "    }\n",
       "\n",
       "    .dataframe tbody tr th {\n",
       "        vertical-align: top;\n",
       "    }\n",
       "\n",
       "    .dataframe thead th {\n",
       "        text-align: right;\n",
       "    }\n",
       "</style>\n",
       "<table border=\"1\" class=\"dataframe\">\n",
       "  <thead>\n",
       "    <tr style=\"text-align: right;\">\n",
       "      <th>User_ID</th>\n",
       "      <th>4385</th>\n",
       "      <th>6251</th>\n",
       "      <th>6575</th>\n",
       "      <th>7346</th>\n",
       "      <th>11676</th>\n",
       "      <th>13552</th>\n",
       "      <th>16634</th>\n",
       "      <th>16795</th>\n",
       "      <th>23768</th>\n",
       "      <th>23872</th>\n",
       "      <th>...</th>\n",
       "      <th>257204</th>\n",
       "      <th>258185</th>\n",
       "      <th>261829</th>\n",
       "      <th>262998</th>\n",
       "      <th>264321</th>\n",
       "      <th>265115</th>\n",
       "      <th>265889</th>\n",
       "      <th>269566</th>\n",
       "      <th>270713</th>\n",
       "      <th>274061</th>\n",
       "    </tr>\n",
       "    <tr>\n",
       "      <th>Book_Title</th>\n",
       "      <th></th>\n",
       "      <th></th>\n",
       "      <th></th>\n",
       "      <th></th>\n",
       "      <th></th>\n",
       "      <th></th>\n",
       "      <th></th>\n",
       "      <th></th>\n",
       "      <th></th>\n",
       "      <th></th>\n",
       "      <th></th>\n",
       "      <th></th>\n",
       "      <th></th>\n",
       "      <th></th>\n",
       "      <th></th>\n",
       "      <th></th>\n",
       "      <th></th>\n",
       "      <th></th>\n",
       "      <th></th>\n",
       "      <th></th>\n",
       "      <th></th>\n",
       "    </tr>\n",
       "  </thead>\n",
       "  <tbody>\n",
       "    <tr>\n",
       "      <th>1984</th>\n",
       "      <td>0.0</td>\n",
       "      <td>0.0</td>\n",
       "      <td>0.0</td>\n",
       "      <td>8.0</td>\n",
       "      <td>10.0</td>\n",
       "      <td>0.0</td>\n",
       "      <td>0.0</td>\n",
       "      <td>8.0</td>\n",
       "      <td>0.0</td>\n",
       "      <td>7.0</td>\n",
       "      <td>...</td>\n",
       "      <td>0.0</td>\n",
       "      <td>0.0</td>\n",
       "      <td>0.0</td>\n",
       "      <td>0.0</td>\n",
       "      <td>0.0</td>\n",
       "      <td>0.0</td>\n",
       "      <td>0.0</td>\n",
       "      <td>0.0</td>\n",
       "      <td>0.0</td>\n",
       "      <td>0.0</td>\n",
       "    </tr>\n",
       "    <tr>\n",
       "      <th>1st to Die: A Novel</th>\n",
       "      <td>0.0</td>\n",
       "      <td>0.0</td>\n",
       "      <td>0.0</td>\n",
       "      <td>0.0</td>\n",
       "      <td>9.0</td>\n",
       "      <td>0.0</td>\n",
       "      <td>0.0</td>\n",
       "      <td>9.0</td>\n",
       "      <td>0.0</td>\n",
       "      <td>0.0</td>\n",
       "      <td>...</td>\n",
       "      <td>0.0</td>\n",
       "      <td>9.0</td>\n",
       "      <td>8.0</td>\n",
       "      <td>0.0</td>\n",
       "      <td>0.0</td>\n",
       "      <td>0.0</td>\n",
       "      <td>0.0</td>\n",
       "      <td>0.0</td>\n",
       "      <td>0.0</td>\n",
       "      <td>0.0</td>\n",
       "    </tr>\n",
       "    <tr>\n",
       "      <th>2nd Chance</th>\n",
       "      <td>0.0</td>\n",
       "      <td>0.0</td>\n",
       "      <td>0.0</td>\n",
       "      <td>0.0</td>\n",
       "      <td>7.5</td>\n",
       "      <td>0.0</td>\n",
       "      <td>0.0</td>\n",
       "      <td>0.0</td>\n",
       "      <td>0.0</td>\n",
       "      <td>0.0</td>\n",
       "      <td>...</td>\n",
       "      <td>0.0</td>\n",
       "      <td>0.0</td>\n",
       "      <td>7.5</td>\n",
       "      <td>0.0</td>\n",
       "      <td>0.0</td>\n",
       "      <td>0.0</td>\n",
       "      <td>0.0</td>\n",
       "      <td>0.0</td>\n",
       "      <td>0.0</td>\n",
       "      <td>0.0</td>\n",
       "    </tr>\n",
       "    <tr>\n",
       "      <th>A Bend in the Road</th>\n",
       "      <td>0.0</td>\n",
       "      <td>0.0</td>\n",
       "      <td>1.0</td>\n",
       "      <td>0.0</td>\n",
       "      <td>6.5</td>\n",
       "      <td>0.0</td>\n",
       "      <td>0.0</td>\n",
       "      <td>8.0</td>\n",
       "      <td>0.0</td>\n",
       "      <td>0.0</td>\n",
       "      <td>...</td>\n",
       "      <td>0.0</td>\n",
       "      <td>0.0</td>\n",
       "      <td>0.0</td>\n",
       "      <td>0.0</td>\n",
       "      <td>0.0</td>\n",
       "      <td>7.0</td>\n",
       "      <td>0.0</td>\n",
       "      <td>0.0</td>\n",
       "      <td>0.0</td>\n",
       "      <td>0.0</td>\n",
       "    </tr>\n",
       "    <tr>\n",
       "      <th>A Case of Need</th>\n",
       "      <td>0.0</td>\n",
       "      <td>0.0</td>\n",
       "      <td>0.0</td>\n",
       "      <td>0.0</td>\n",
       "      <td>9.0</td>\n",
       "      <td>0.0</td>\n",
       "      <td>0.0</td>\n",
       "      <td>0.0</td>\n",
       "      <td>0.0</td>\n",
       "      <td>0.0</td>\n",
       "      <td>...</td>\n",
       "      <td>0.0</td>\n",
       "      <td>0.0</td>\n",
       "      <td>0.0</td>\n",
       "      <td>0.0</td>\n",
       "      <td>0.0</td>\n",
       "      <td>0.0</td>\n",
       "      <td>0.0</td>\n",
       "      <td>0.0</td>\n",
       "      <td>0.0</td>\n",
       "      <td>0.0</td>\n",
       "    </tr>\n",
       "    <tr>\n",
       "      <th>...</th>\n",
       "      <td>...</td>\n",
       "      <td>...</td>\n",
       "      <td>...</td>\n",
       "      <td>...</td>\n",
       "      <td>...</td>\n",
       "      <td>...</td>\n",
       "      <td>...</td>\n",
       "      <td>...</td>\n",
       "      <td>...</td>\n",
       "      <td>...</td>\n",
       "      <td>...</td>\n",
       "      <td>...</td>\n",
       "      <td>...</td>\n",
       "      <td>...</td>\n",
       "      <td>...</td>\n",
       "      <td>...</td>\n",
       "      <td>...</td>\n",
       "      <td>...</td>\n",
       "      <td>...</td>\n",
       "      <td>...</td>\n",
       "      <td>...</td>\n",
       "    </tr>\n",
       "    <tr>\n",
       "      <th>Wild Animus</th>\n",
       "      <td>0.0</td>\n",
       "      <td>0.0</td>\n",
       "      <td>0.0</td>\n",
       "      <td>0.0</td>\n",
       "      <td>6.0</td>\n",
       "      <td>0.0</td>\n",
       "      <td>0.0</td>\n",
       "      <td>0.0</td>\n",
       "      <td>0.0</td>\n",
       "      <td>0.0</td>\n",
       "      <td>...</td>\n",
       "      <td>0.0</td>\n",
       "      <td>0.0</td>\n",
       "      <td>0.0</td>\n",
       "      <td>0.0</td>\n",
       "      <td>0.0</td>\n",
       "      <td>0.0</td>\n",
       "      <td>0.0</td>\n",
       "      <td>0.0</td>\n",
       "      <td>0.0</td>\n",
       "      <td>0.0</td>\n",
       "    </tr>\n",
       "    <tr>\n",
       "      <th>Wish You Well</th>\n",
       "      <td>0.0</td>\n",
       "      <td>0.0</td>\n",
       "      <td>0.0</td>\n",
       "      <td>0.0</td>\n",
       "      <td>9.0</td>\n",
       "      <td>0.0</td>\n",
       "      <td>0.0</td>\n",
       "      <td>0.0</td>\n",
       "      <td>0.0</td>\n",
       "      <td>0.0</td>\n",
       "      <td>...</td>\n",
       "      <td>0.0</td>\n",
       "      <td>0.0</td>\n",
       "      <td>0.0</td>\n",
       "      <td>0.0</td>\n",
       "      <td>0.0</td>\n",
       "      <td>0.0</td>\n",
       "      <td>0.0</td>\n",
       "      <td>0.0</td>\n",
       "      <td>0.0</td>\n",
       "      <td>0.0</td>\n",
       "    </tr>\n",
       "    <tr>\n",
       "      <th>Year of Wonders</th>\n",
       "      <td>0.0</td>\n",
       "      <td>0.0</td>\n",
       "      <td>0.0</td>\n",
       "      <td>0.0</td>\n",
       "      <td>0.0</td>\n",
       "      <td>0.0</td>\n",
       "      <td>0.0</td>\n",
       "      <td>0.0</td>\n",
       "      <td>0.0</td>\n",
       "      <td>0.0</td>\n",
       "      <td>...</td>\n",
       "      <td>0.0</td>\n",
       "      <td>0.0</td>\n",
       "      <td>0.0</td>\n",
       "      <td>0.0</td>\n",
       "      <td>0.0</td>\n",
       "      <td>0.0</td>\n",
       "      <td>0.0</td>\n",
       "      <td>0.0</td>\n",
       "      <td>0.0</td>\n",
       "      <td>0.0</td>\n",
       "    </tr>\n",
       "    <tr>\n",
       "      <th>Zen and the Art of Motorcycle Maintenance: An Inquiry into Values</th>\n",
       "      <td>0.0</td>\n",
       "      <td>0.0</td>\n",
       "      <td>0.0</td>\n",
       "      <td>0.0</td>\n",
       "      <td>7.0</td>\n",
       "      <td>0.0</td>\n",
       "      <td>0.0</td>\n",
       "      <td>0.0</td>\n",
       "      <td>0.0</td>\n",
       "      <td>0.0</td>\n",
       "      <td>...</td>\n",
       "      <td>0.0</td>\n",
       "      <td>0.0</td>\n",
       "      <td>0.0</td>\n",
       "      <td>0.0</td>\n",
       "      <td>0.0</td>\n",
       "      <td>0.0</td>\n",
       "      <td>0.0</td>\n",
       "      <td>0.0</td>\n",
       "      <td>0.0</td>\n",
       "      <td>0.0</td>\n",
       "    </tr>\n",
       "    <tr>\n",
       "      <th>\\O\\\" Is for Outlaw\"</th>\n",
       "      <td>0.0</td>\n",
       "      <td>0.0</td>\n",
       "      <td>0.0</td>\n",
       "      <td>8.0</td>\n",
       "      <td>7.0</td>\n",
       "      <td>0.0</td>\n",
       "      <td>0.0</td>\n",
       "      <td>0.0</td>\n",
       "      <td>0.0</td>\n",
       "      <td>0.0</td>\n",
       "      <td>...</td>\n",
       "      <td>0.0</td>\n",
       "      <td>0.0</td>\n",
       "      <td>0.0</td>\n",
       "      <td>0.0</td>\n",
       "      <td>0.0</td>\n",
       "      <td>0.0</td>\n",
       "      <td>0.0</td>\n",
       "      <td>0.0</td>\n",
       "      <td>0.0</td>\n",
       "      <td>0.0</td>\n",
       "    </tr>\n",
       "  </tbody>\n",
       "</table>\n",
       "<p>303 rows × 117 columns</p>\n",
       "</div>"
      ],
      "text/plain": [
       "User_ID                                             4385    6251    6575    \\\n",
       "Book_Title                                                                   \n",
       "1984                                                   0.0     0.0     0.0   \n",
       "1st to Die: A Novel                                    0.0     0.0     0.0   \n",
       "2nd Chance                                             0.0     0.0     0.0   \n",
       "A Bend in the Road                                     0.0     0.0     1.0   \n",
       "A Case of Need                                         0.0     0.0     0.0   \n",
       "...                                                    ...     ...     ...   \n",
       "Wild Animus                                            0.0     0.0     0.0   \n",
       "Wish You Well                                          0.0     0.0     0.0   \n",
       "Year of Wonders                                        0.0     0.0     0.0   \n",
       "Zen and the Art of Motorcycle Maintenance: An I...     0.0     0.0     0.0   \n",
       "\\O\\\" Is for Outlaw\"                                    0.0     0.0     0.0   \n",
       "\n",
       "User_ID                                             7346    11676   13552   \\\n",
       "Book_Title                                                                   \n",
       "1984                                                   8.0    10.0     0.0   \n",
       "1st to Die: A Novel                                    0.0     9.0     0.0   \n",
       "2nd Chance                                             0.0     7.5     0.0   \n",
       "A Bend in the Road                                     0.0     6.5     0.0   \n",
       "A Case of Need                                         0.0     9.0     0.0   \n",
       "...                                                    ...     ...     ...   \n",
       "Wild Animus                                            0.0     6.0     0.0   \n",
       "Wish You Well                                          0.0     9.0     0.0   \n",
       "Year of Wonders                                        0.0     0.0     0.0   \n",
       "Zen and the Art of Motorcycle Maintenance: An I...     0.0     7.0     0.0   \n",
       "\\O\\\" Is for Outlaw\"                                    8.0     7.0     0.0   \n",
       "\n",
       "User_ID                                             16634   16795   23768   \\\n",
       "Book_Title                                                                   \n",
       "1984                                                   0.0     8.0     0.0   \n",
       "1st to Die: A Novel                                    0.0     9.0     0.0   \n",
       "2nd Chance                                             0.0     0.0     0.0   \n",
       "A Bend in the Road                                     0.0     8.0     0.0   \n",
       "A Case of Need                                         0.0     0.0     0.0   \n",
       "...                                                    ...     ...     ...   \n",
       "Wild Animus                                            0.0     0.0     0.0   \n",
       "Wish You Well                                          0.0     0.0     0.0   \n",
       "Year of Wonders                                        0.0     0.0     0.0   \n",
       "Zen and the Art of Motorcycle Maintenance: An I...     0.0     0.0     0.0   \n",
       "\\O\\\" Is for Outlaw\"                                    0.0     0.0     0.0   \n",
       "\n",
       "User_ID                                             23872   ...  257204  \\\n",
       "Book_Title                                                  ...           \n",
       "1984                                                   7.0  ...     0.0   \n",
       "1st to Die: A Novel                                    0.0  ...     0.0   \n",
       "2nd Chance                                             0.0  ...     0.0   \n",
       "A Bend in the Road                                     0.0  ...     0.0   \n",
       "A Case of Need                                         0.0  ...     0.0   \n",
       "...                                                    ...  ...     ...   \n",
       "Wild Animus                                            0.0  ...     0.0   \n",
       "Wish You Well                                          0.0  ...     0.0   \n",
       "Year of Wonders                                        0.0  ...     0.0   \n",
       "Zen and the Art of Motorcycle Maintenance: An I...     0.0  ...     0.0   \n",
       "\\O\\\" Is for Outlaw\"                                    0.0  ...     0.0   \n",
       "\n",
       "User_ID                                             258185  261829  262998  \\\n",
       "Book_Title                                                                   \n",
       "1984                                                   0.0     0.0     0.0   \n",
       "1st to Die: A Novel                                    9.0     8.0     0.0   \n",
       "2nd Chance                                             0.0     7.5     0.0   \n",
       "A Bend in the Road                                     0.0     0.0     0.0   \n",
       "A Case of Need                                         0.0     0.0     0.0   \n",
       "...                                                    ...     ...     ...   \n",
       "Wild Animus                                            0.0     0.0     0.0   \n",
       "Wish You Well                                          0.0     0.0     0.0   \n",
       "Year of Wonders                                        0.0     0.0     0.0   \n",
       "Zen and the Art of Motorcycle Maintenance: An I...     0.0     0.0     0.0   \n",
       "\\O\\\" Is for Outlaw\"                                    0.0     0.0     0.0   \n",
       "\n",
       "User_ID                                             264321  265115  265889  \\\n",
       "Book_Title                                                                   \n",
       "1984                                                   0.0     0.0     0.0   \n",
       "1st to Die: A Novel                                    0.0     0.0     0.0   \n",
       "2nd Chance                                             0.0     0.0     0.0   \n",
       "A Bend in the Road                                     0.0     7.0     0.0   \n",
       "A Case of Need                                         0.0     0.0     0.0   \n",
       "...                                                    ...     ...     ...   \n",
       "Wild Animus                                            0.0     0.0     0.0   \n",
       "Wish You Well                                          0.0     0.0     0.0   \n",
       "Year of Wonders                                        0.0     0.0     0.0   \n",
       "Zen and the Art of Motorcycle Maintenance: An I...     0.0     0.0     0.0   \n",
       "\\O\\\" Is for Outlaw\"                                    0.0     0.0     0.0   \n",
       "\n",
       "User_ID                                             269566  270713  274061  \n",
       "Book_Title                                                                  \n",
       "1984                                                   0.0     0.0     0.0  \n",
       "1st to Die: A Novel                                    0.0     0.0     0.0  \n",
       "2nd Chance                                             0.0     0.0     0.0  \n",
       "A Bend in the Road                                     0.0     0.0     0.0  \n",
       "A Case of Need                                         0.0     0.0     0.0  \n",
       "...                                                    ...     ...     ...  \n",
       "Wild Animus                                            0.0     0.0     0.0  \n",
       "Wish You Well                                          0.0     0.0     0.0  \n",
       "Year of Wonders                                        0.0     0.0     0.0  \n",
       "Zen and the Art of Motorcycle Maintenance: An I...     0.0     0.0     0.0  \n",
       "\\O\\\" Is for Outlaw\"                                    0.0     0.0     0.0  \n",
       "\n",
       "[303 rows x 117 columns]"
      ]
     },
     "execution_count": 92,
     "metadata": {},
     "output_type": "execute_result"
    }
   ],
   "source": [
    "pt = filtered_df.pivot_table(index = 'Book_Title', columns = 'User_ID', values = 'Book_Rating').fillna(0)\n",
    "pt"
   ]
  },
  {
   "cell_type": "code",
   "execution_count": 46,
   "id": "c36ca195",
   "metadata": {},
   "outputs": [],
   "source": [
    "# create an object of soine similarity\n",
    "from sklearn.metrics.pairwise import cosine_similarity"
   ]
  },
  {
   "cell_type": "code",
   "execution_count": 93,
   "id": "1f28c475",
   "metadata": {},
   "outputs": [
    {
     "data": {
      "text/plain": [
       "array([[1.        , 0.32517147, 0.08926721, ..., 0.16003585, 0.30739714,\n",
       "        0.17540409],\n",
       "       [0.32517147, 1.        , 0.35409148, ..., 0.19923131, 0.14610385,\n",
       "        0.18332756],\n",
       "       [0.08926721, 0.35409148, 1.        , ..., 0.08768148, 0.07590988,\n",
       "        0.24140641],\n",
       "       ...,\n",
       "       [0.16003585, 0.19923131, 0.08768148, ..., 1.        , 0.        ,\n",
       "        0.        ],\n",
       "       [0.30739714, 0.14610385, 0.07590988, ..., 0.        , 1.        ,\n",
       "        0.07791827],\n",
       "       [0.17540409, 0.18332756, 0.24140641, ..., 0.        , 0.07791827,\n",
       "        1.        ]])"
      ]
     },
     "execution_count": 93,
     "metadata": {},
     "output_type": "execute_result"
    }
   ],
   "source": [
    "similarity_scores = cosine_similarity(pt)\n",
    "\n",
    "similarity_scores"
   ]
  },
  {
   "cell_type": "code",
   "execution_count": 94,
   "id": "8839cc9e",
   "metadata": {},
   "outputs": [],
   "source": [
    "def recommend(book_name):\n",
    "    #index fetching of the provided book\n",
    "    index = np.where(pt.index == book_name)[0][0]\n",
    "    #extracting top 7 items with the highest similarity scores in descending order\n",
    "    similar_items = sorted(list(enumerate(similarity_scores[index])),key = lambda x:x[1], reverse = True)[1:7]\n",
    "    #displaying the extracted item Book-title\n",
    "    print(\"\\n-----------------------Recommended Books---------------------------\\n\")\n",
    "    for i in similar_items:\n",
    "        print(pt.index[i[0]])\n",
    "    print(\"\\n-------------------------------------------------------------------\\n\")    \n",
    "    return find_similarity_score(similar_items,pt)"
   ]
  },
  {
   "cell_type": "code",
   "execution_count": 95,
   "id": "42fc11e3",
   "metadata": {},
   "outputs": [],
   "source": [
    "def find_similarity_score(similarity_scores,pivot_table):\n",
    "\n",
    "  list_book = []\n",
    "  list_sim = []\n",
    "  for i in similarity_scores:\n",
    "    index_ = i[0]\n",
    "    sim_ = i[1]\n",
    "    list_sim.append(sim_)\n",
    "    # list_book.append(pivot_table[pivot_table.index == index_]['Book-Title'][index_])\n",
    "    list_book.append(pivot_table.iloc[index_,:].name)\n",
    "    \n",
    "    df = pd.DataFrame(list(zip(list_book, list_sim)),\n",
    "               columns =['Book', 'Similarity'])\n",
    "  # df =pd.DataFrame([list_book, list_sim], columns = [\"Book\",'Similarity_Score'])\n",
    "  return df"
   ]
  },
  {
   "cell_type": "code",
   "execution_count": 96,
   "id": "6bc46351",
   "metadata": {},
   "outputs": [
    {
     "name": "stdout",
     "output_type": "stream",
     "text": [
      "\n",
      "-----------------------Recommended Books---------------------------\n",
      "\n",
      "Harry Potter and the Prisoner of Azkaban (Book 3)\n",
      "Harry Potter and the Goblet of Fire (Book 4)\n",
      "Harry Potter and the Sorcerer's Stone (Harry Potter (Paperback))\n",
      "Harry Potter and the Sorcerer's Stone (Book 1)\n",
      "The Alienist\n",
      "A Time to Kill\n",
      "\n",
      "-------------------------------------------------------------------\n",
      "\n"
     ]
    },
    {
     "data": {
      "text/html": [
       "<div>\n",
       "<style scoped>\n",
       "    .dataframe tbody tr th:only-of-type {\n",
       "        vertical-align: middle;\n",
       "    }\n",
       "\n",
       "    .dataframe tbody tr th {\n",
       "        vertical-align: top;\n",
       "    }\n",
       "\n",
       "    .dataframe thead th {\n",
       "        text-align: right;\n",
       "    }\n",
       "</style>\n",
       "<table border=\"1\" class=\"dataframe\">\n",
       "  <thead>\n",
       "    <tr style=\"text-align: right;\">\n",
       "      <th></th>\n",
       "      <th>Book</th>\n",
       "      <th>Similarity</th>\n",
       "    </tr>\n",
       "  </thead>\n",
       "  <tbody>\n",
       "    <tr>\n",
       "      <th>0</th>\n",
       "      <td>Harry Potter and the Prisoner of Azkaban (Book 3)</td>\n",
       "      <td>0.638622</td>\n",
       "    </tr>\n",
       "    <tr>\n",
       "      <th>1</th>\n",
       "      <td>Harry Potter and the Goblet of Fire (Book 4)</td>\n",
       "      <td>0.600854</td>\n",
       "    </tr>\n",
       "    <tr>\n",
       "      <th>2</th>\n",
       "      <td>Harry Potter and the Sorcerer's Stone (Harry P...</td>\n",
       "      <td>0.533268</td>\n",
       "    </tr>\n",
       "    <tr>\n",
       "      <th>3</th>\n",
       "      <td>Harry Potter and the Sorcerer's Stone (Book 1)</td>\n",
       "      <td>0.527763</td>\n",
       "    </tr>\n",
       "    <tr>\n",
       "      <th>4</th>\n",
       "      <td>The Alienist</td>\n",
       "      <td>0.443788</td>\n",
       "    </tr>\n",
       "    <tr>\n",
       "      <th>5</th>\n",
       "      <td>A Time to Kill</td>\n",
       "      <td>0.437067</td>\n",
       "    </tr>\n",
       "  </tbody>\n",
       "</table>\n",
       "</div>"
      ],
      "text/plain": [
       "                                                Book  Similarity\n",
       "0  Harry Potter and the Prisoner of Azkaban (Book 3)    0.638622\n",
       "1       Harry Potter and the Goblet of Fire (Book 4)    0.600854\n",
       "2  Harry Potter and the Sorcerer's Stone (Harry P...    0.533268\n",
       "3     Harry Potter and the Sorcerer's Stone (Book 1)    0.527763\n",
       "4                                       The Alienist    0.443788\n",
       "5                                     A Time to Kill    0.437067"
      ]
     },
     "execution_count": 96,
     "metadata": {},
     "output_type": "execute_result"
    }
   ],
   "source": [
    "recommend('Harry Potter and the Chamber of Secrets (Book 2)')"
   ]
  },
  {
   "cell_type": "code",
   "execution_count": 97,
   "id": "b8b74417",
   "metadata": {},
   "outputs": [
    {
     "name": "stdout",
     "output_type": "stream",
     "text": [
      "\n",
      "-----------------------Recommended Books---------------------------\n",
      "\n",
      "Harry Potter and the Goblet of Fire (Book 4)\n",
      "Harry Potter and the Chamber of Secrets (Book 2)\n",
      "Harry Potter and the Sorcerer's Stone (Harry Potter (Paperback))\n",
      "Harry Potter and the Sorcerer's Stone (Book 1)\n",
      "Harry Potter and the Order of the Phoenix (Book 5)\n",
      "A Time to Kill\n",
      "\n",
      "-------------------------------------------------------------------\n",
      "\n"
     ]
    },
    {
     "data": {
      "text/html": [
       "<div>\n",
       "<style scoped>\n",
       "    .dataframe tbody tr th:only-of-type {\n",
       "        vertical-align: middle;\n",
       "    }\n",
       "\n",
       "    .dataframe tbody tr th {\n",
       "        vertical-align: top;\n",
       "    }\n",
       "\n",
       "    .dataframe thead th {\n",
       "        text-align: right;\n",
       "    }\n",
       "</style>\n",
       "<table border=\"1\" class=\"dataframe\">\n",
       "  <thead>\n",
       "    <tr style=\"text-align: right;\">\n",
       "      <th></th>\n",
       "      <th>Book</th>\n",
       "      <th>Similarity</th>\n",
       "    </tr>\n",
       "  </thead>\n",
       "  <tbody>\n",
       "    <tr>\n",
       "      <th>0</th>\n",
       "      <td>Harry Potter and the Goblet of Fire (Book 4)</td>\n",
       "      <td>0.765105</td>\n",
       "    </tr>\n",
       "    <tr>\n",
       "      <th>1</th>\n",
       "      <td>Harry Potter and the Chamber of Secrets (Book 2)</td>\n",
       "      <td>0.638622</td>\n",
       "    </tr>\n",
       "    <tr>\n",
       "      <th>2</th>\n",
       "      <td>Harry Potter and the Sorcerer's Stone (Harry P...</td>\n",
       "      <td>0.519981</td>\n",
       "    </tr>\n",
       "    <tr>\n",
       "      <th>3</th>\n",
       "      <td>Harry Potter and the Sorcerer's Stone (Book 1)</td>\n",
       "      <td>0.507874</td>\n",
       "    </tr>\n",
       "    <tr>\n",
       "      <th>4</th>\n",
       "      <td>Harry Potter and the Order of the Phoenix (Boo...</td>\n",
       "      <td>0.494995</td>\n",
       "    </tr>\n",
       "    <tr>\n",
       "      <th>5</th>\n",
       "      <td>A Time to Kill</td>\n",
       "      <td>0.448445</td>\n",
       "    </tr>\n",
       "  </tbody>\n",
       "</table>\n",
       "</div>"
      ],
      "text/plain": [
       "                                                Book  Similarity\n",
       "0       Harry Potter and the Goblet of Fire (Book 4)    0.765105\n",
       "1   Harry Potter and the Chamber of Secrets (Book 2)    0.638622\n",
       "2  Harry Potter and the Sorcerer's Stone (Harry P...    0.519981\n",
       "3     Harry Potter and the Sorcerer's Stone (Book 1)    0.507874\n",
       "4  Harry Potter and the Order of the Phoenix (Boo...    0.494995\n",
       "5                                     A Time to Kill    0.448445"
      ]
     },
     "execution_count": 97,
     "metadata": {},
     "output_type": "execute_result"
    }
   ],
   "source": [
    "recommend('Harry Potter and the Prisoner of Azkaban (Book 3)')"
   ]
  },
  {
   "cell_type": "code",
   "execution_count": 98,
   "id": "19e9a1f3",
   "metadata": {},
   "outputs": [
    {
     "name": "stdout",
     "output_type": "stream",
     "text": [
      "\n",
      "-----------------------Recommended Books---------------------------\n",
      "\n",
      "The Catcher in the Rye\n",
      "Animal Farm\n",
      "Tears of the Giraffe (No.1 Ladies Detective Agency)\n",
      "Confessions of an Ugly Stepsister : A Novel\n",
      "One True Thing\n",
      "The Bad Beginning (A Series of Unfortunate Events, Book 1)\n",
      "\n",
      "-------------------------------------------------------------------\n",
      "\n"
     ]
    },
    {
     "data": {
      "text/html": [
       "<div>\n",
       "<style scoped>\n",
       "    .dataframe tbody tr th:only-of-type {\n",
       "        vertical-align: middle;\n",
       "    }\n",
       "\n",
       "    .dataframe tbody tr th {\n",
       "        vertical-align: top;\n",
       "    }\n",
       "\n",
       "    .dataframe thead th {\n",
       "        text-align: right;\n",
       "    }\n",
       "</style>\n",
       "<table border=\"1\" class=\"dataframe\">\n",
       "  <thead>\n",
       "    <tr style=\"text-align: right;\">\n",
       "      <th></th>\n",
       "      <th>Book</th>\n",
       "      <th>Similarity</th>\n",
       "    </tr>\n",
       "  </thead>\n",
       "  <tbody>\n",
       "    <tr>\n",
       "      <th>0</th>\n",
       "      <td>The Catcher in the Rye</td>\n",
       "      <td>0.508615</td>\n",
       "    </tr>\n",
       "    <tr>\n",
       "      <th>1</th>\n",
       "      <td>Animal Farm</td>\n",
       "      <td>0.480699</td>\n",
       "    </tr>\n",
       "    <tr>\n",
       "      <th>2</th>\n",
       "      <td>Tears of the Giraffe (No.1 Ladies Detective Ag...</td>\n",
       "      <td>0.454674</td>\n",
       "    </tr>\n",
       "    <tr>\n",
       "      <th>3</th>\n",
       "      <td>Confessions of an Ugly Stepsister : A Novel</td>\n",
       "      <td>0.422368</td>\n",
       "    </tr>\n",
       "    <tr>\n",
       "      <th>4</th>\n",
       "      <td>One True Thing</td>\n",
       "      <td>0.418250</td>\n",
       "    </tr>\n",
       "    <tr>\n",
       "      <th>5</th>\n",
       "      <td>The Bad Beginning (A Series of Unfortunate Eve...</td>\n",
       "      <td>0.407673</td>\n",
       "    </tr>\n",
       "  </tbody>\n",
       "</table>\n",
       "</div>"
      ],
      "text/plain": [
       "                                                Book  Similarity\n",
       "0                             The Catcher in the Rye    0.508615\n",
       "1                                        Animal Farm    0.480699\n",
       "2  Tears of the Giraffe (No.1 Ladies Detective Ag...    0.454674\n",
       "3        Confessions of an Ugly Stepsister : A Novel    0.422368\n",
       "4                                     One True Thing    0.418250\n",
       "5  The Bad Beginning (A Series of Unfortunate Eve...    0.407673"
      ]
     },
     "execution_count": 98,
     "metadata": {},
     "output_type": "execute_result"
    }
   ],
   "source": [
    "recommend('To Kill a Mockingbird')"
   ]
  },
  {
   "cell_type": "code",
   "execution_count": 99,
   "id": "7a842771",
   "metadata": {},
   "outputs": [
    {
     "name": "stdout",
     "output_type": "stream",
     "text": [
      "\n",
      "-----------------------Recommended Books---------------------------\n",
      "\n",
      "The Tale of the Body Thief (Vampire Chronicles (Paperback))\n",
      "The Catcher in the Rye\n",
      "Fahrenheit 451\n",
      "The Devil Wears Prada : A Novel\n",
      "The Poisonwood Bible\n",
      "The Prince of Tides\n",
      "\n",
      "-------------------------------------------------------------------\n",
      "\n"
     ]
    },
    {
     "data": {
      "text/html": [
       "<div>\n",
       "<style scoped>\n",
       "    .dataframe tbody tr th:only-of-type {\n",
       "        vertical-align: middle;\n",
       "    }\n",
       "\n",
       "    .dataframe tbody tr th {\n",
       "        vertical-align: top;\n",
       "    }\n",
       "\n",
       "    .dataframe thead th {\n",
       "        text-align: right;\n",
       "    }\n",
       "</style>\n",
       "<table border=\"1\" class=\"dataframe\">\n",
       "  <thead>\n",
       "    <tr style=\"text-align: right;\">\n",
       "      <th></th>\n",
       "      <th>Book</th>\n",
       "      <th>Similarity</th>\n",
       "    </tr>\n",
       "  </thead>\n",
       "  <tbody>\n",
       "    <tr>\n",
       "      <th>0</th>\n",
       "      <td>The Tale of the Body Thief (Vampire Chronicles...</td>\n",
       "      <td>0.615955</td>\n",
       "    </tr>\n",
       "    <tr>\n",
       "      <th>1</th>\n",
       "      <td>The Catcher in the Rye</td>\n",
       "      <td>0.564060</td>\n",
       "    </tr>\n",
       "    <tr>\n",
       "      <th>2</th>\n",
       "      <td>Fahrenheit 451</td>\n",
       "      <td>0.549670</td>\n",
       "    </tr>\n",
       "    <tr>\n",
       "      <th>3</th>\n",
       "      <td>The Devil Wears Prada : A Novel</td>\n",
       "      <td>0.539486</td>\n",
       "    </tr>\n",
       "    <tr>\n",
       "      <th>4</th>\n",
       "      <td>The Poisonwood Bible</td>\n",
       "      <td>0.537315</td>\n",
       "    </tr>\n",
       "    <tr>\n",
       "      <th>5</th>\n",
       "      <td>The Prince of Tides</td>\n",
       "      <td>0.529439</td>\n",
       "    </tr>\n",
       "  </tbody>\n",
       "</table>\n",
       "</div>"
      ],
      "text/plain": [
       "                                                Book  Similarity\n",
       "0  The Tale of the Body Thief (Vampire Chronicles...    0.615955\n",
       "1                             The Catcher in the Rye    0.564060\n",
       "2                                     Fahrenheit 451    0.549670\n",
       "3                    The Devil Wears Prada : A Novel    0.539486\n",
       "4                               The Poisonwood Bible    0.537315\n",
       "5                                The Prince of Tides    0.529439"
      ]
     },
     "execution_count": 99,
     "metadata": {},
     "output_type": "execute_result"
    }
   ],
   "source": [
    "recommend('1984')"
   ]
  },
  {
   "cell_type": "code",
   "execution_count": null,
   "id": "e568fa53",
   "metadata": {},
   "outputs": [],
   "source": []
  }
 ],
 "metadata": {
  "kernelspec": {
   "display_name": "Python 3 (ipykernel)",
   "language": "python",
   "name": "python3"
  },
  "language_info": {
   "codemirror_mode": {
    "name": "ipython",
    "version": 3
   },
   "file_extension": ".py",
   "mimetype": "text/x-python",
   "name": "python",
   "nbconvert_exporter": "python",
   "pygments_lexer": "ipython3",
   "version": "3.11.5"
  }
 },
 "nbformat": 4,
 "nbformat_minor": 5
}
